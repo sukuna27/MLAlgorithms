{
 "cells": [
  {
   "cell_type": "code",
   "execution_count": 5,
   "metadata": {},
   "outputs": [],
   "source": [
    "##using graphlab as it is created using python2\n",
    "import graphlab"
   ]
  },
  {
   "cell_type": "code",
   "execution_count": 6,
   "metadata": {},
   "outputs": [
    {
     "name": "stdout",
     "output_type": "stream",
     "text": [
      "This non-commercial license of GraphLab Create for academic use is assigned to sukuna27@gmail.com and will expire on June 25, 2020.\n"
     ]
    },
    {
     "name": "stderr",
     "output_type": "stream",
     "text": [
      "[INFO] graphlab.cython.cy_server: GraphLab Create v2.1 started. Logging: C:\\Users\\OEM\\AppData\\Local\\Temp\\graphlab_server_1562241205.log.0\n"
     ]
    }
   ],
   "source": [
    "sales=graphlab.SFrame('C:\\Users\\OEM\\home_data.gl/')"
   ]
  },
  {
   "cell_type": "code",
   "execution_count": 6,
   "metadata": {},
   "outputs": [
    {
     "data": {
      "text/html": [
       "<div style=\"max-height:1000px;max-width:1500px;overflow:auto;\"><table frame=\"box\" rules=\"cols\">\n",
       "    <tr>\n",
       "        <th style=\"padding-left: 1em; padding-right: 1em; text-align: center\">id</th>\n",
       "        <th style=\"padding-left: 1em; padding-right: 1em; text-align: center\">date</th>\n",
       "        <th style=\"padding-left: 1em; padding-right: 1em; text-align: center\">price</th>\n",
       "        <th style=\"padding-left: 1em; padding-right: 1em; text-align: center\">bedrooms</th>\n",
       "        <th style=\"padding-left: 1em; padding-right: 1em; text-align: center\">bathrooms</th>\n",
       "        <th style=\"padding-left: 1em; padding-right: 1em; text-align: center\">sqft_living</th>\n",
       "        <th style=\"padding-left: 1em; padding-right: 1em; text-align: center\">sqft_lot</th>\n",
       "        <th style=\"padding-left: 1em; padding-right: 1em; text-align: center\">floors</th>\n",
       "        <th style=\"padding-left: 1em; padding-right: 1em; text-align: center\">waterfront</th>\n",
       "    </tr>\n",
       "    <tr>\n",
       "        <td style=\"padding-left: 1em; padding-right: 1em; text-align: center; vertical-align: top\">7129300520</td>\n",
       "        <td style=\"padding-left: 1em; padding-right: 1em; text-align: center; vertical-align: top\">2014-10-13 00:00:00+00:00</td>\n",
       "        <td style=\"padding-left: 1em; padding-right: 1em; text-align: center; vertical-align: top\">221900</td>\n",
       "        <td style=\"padding-left: 1em; padding-right: 1em; text-align: center; vertical-align: top\">3</td>\n",
       "        <td style=\"padding-left: 1em; padding-right: 1em; text-align: center; vertical-align: top\">1</td>\n",
       "        <td style=\"padding-left: 1em; padding-right: 1em; text-align: center; vertical-align: top\">1180</td>\n",
       "        <td style=\"padding-left: 1em; padding-right: 1em; text-align: center; vertical-align: top\">5650</td>\n",
       "        <td style=\"padding-left: 1em; padding-right: 1em; text-align: center; vertical-align: top\">1</td>\n",
       "        <td style=\"padding-left: 1em; padding-right: 1em; text-align: center; vertical-align: top\">0</td>\n",
       "    </tr>\n",
       "    <tr>\n",
       "        <td style=\"padding-left: 1em; padding-right: 1em; text-align: center; vertical-align: top\">6414100192</td>\n",
       "        <td style=\"padding-left: 1em; padding-right: 1em; text-align: center; vertical-align: top\">2014-12-09 00:00:00+00:00</td>\n",
       "        <td style=\"padding-left: 1em; padding-right: 1em; text-align: center; vertical-align: top\">538000</td>\n",
       "        <td style=\"padding-left: 1em; padding-right: 1em; text-align: center; vertical-align: top\">3</td>\n",
       "        <td style=\"padding-left: 1em; padding-right: 1em; text-align: center; vertical-align: top\">2.25</td>\n",
       "        <td style=\"padding-left: 1em; padding-right: 1em; text-align: center; vertical-align: top\">2570</td>\n",
       "        <td style=\"padding-left: 1em; padding-right: 1em; text-align: center; vertical-align: top\">7242</td>\n",
       "        <td style=\"padding-left: 1em; padding-right: 1em; text-align: center; vertical-align: top\">2</td>\n",
       "        <td style=\"padding-left: 1em; padding-right: 1em; text-align: center; vertical-align: top\">0</td>\n",
       "    </tr>\n",
       "    <tr>\n",
       "        <td style=\"padding-left: 1em; padding-right: 1em; text-align: center; vertical-align: top\">5631500400</td>\n",
       "        <td style=\"padding-left: 1em; padding-right: 1em; text-align: center; vertical-align: top\">2015-02-25 00:00:00+00:00</td>\n",
       "        <td style=\"padding-left: 1em; padding-right: 1em; text-align: center; vertical-align: top\">180000</td>\n",
       "        <td style=\"padding-left: 1em; padding-right: 1em; text-align: center; vertical-align: top\">2</td>\n",
       "        <td style=\"padding-left: 1em; padding-right: 1em; text-align: center; vertical-align: top\">1</td>\n",
       "        <td style=\"padding-left: 1em; padding-right: 1em; text-align: center; vertical-align: top\">770</td>\n",
       "        <td style=\"padding-left: 1em; padding-right: 1em; text-align: center; vertical-align: top\">10000</td>\n",
       "        <td style=\"padding-left: 1em; padding-right: 1em; text-align: center; vertical-align: top\">1</td>\n",
       "        <td style=\"padding-left: 1em; padding-right: 1em; text-align: center; vertical-align: top\">0</td>\n",
       "    </tr>\n",
       "    <tr>\n",
       "        <td style=\"padding-left: 1em; padding-right: 1em; text-align: center; vertical-align: top\">2487200875</td>\n",
       "        <td style=\"padding-left: 1em; padding-right: 1em; text-align: center; vertical-align: top\">2014-12-09 00:00:00+00:00</td>\n",
       "        <td style=\"padding-left: 1em; padding-right: 1em; text-align: center; vertical-align: top\">604000</td>\n",
       "        <td style=\"padding-left: 1em; padding-right: 1em; text-align: center; vertical-align: top\">4</td>\n",
       "        <td style=\"padding-left: 1em; padding-right: 1em; text-align: center; vertical-align: top\">3</td>\n",
       "        <td style=\"padding-left: 1em; padding-right: 1em; text-align: center; vertical-align: top\">1960</td>\n",
       "        <td style=\"padding-left: 1em; padding-right: 1em; text-align: center; vertical-align: top\">5000</td>\n",
       "        <td style=\"padding-left: 1em; padding-right: 1em; text-align: center; vertical-align: top\">1</td>\n",
       "        <td style=\"padding-left: 1em; padding-right: 1em; text-align: center; vertical-align: top\">0</td>\n",
       "    </tr>\n",
       "    <tr>\n",
       "        <td style=\"padding-left: 1em; padding-right: 1em; text-align: center; vertical-align: top\">1954400510</td>\n",
       "        <td style=\"padding-left: 1em; padding-right: 1em; text-align: center; vertical-align: top\">2015-02-18 00:00:00+00:00</td>\n",
       "        <td style=\"padding-left: 1em; padding-right: 1em; text-align: center; vertical-align: top\">510000</td>\n",
       "        <td style=\"padding-left: 1em; padding-right: 1em; text-align: center; vertical-align: top\">3</td>\n",
       "        <td style=\"padding-left: 1em; padding-right: 1em; text-align: center; vertical-align: top\">2</td>\n",
       "        <td style=\"padding-left: 1em; padding-right: 1em; text-align: center; vertical-align: top\">1680</td>\n",
       "        <td style=\"padding-left: 1em; padding-right: 1em; text-align: center; vertical-align: top\">8080</td>\n",
       "        <td style=\"padding-left: 1em; padding-right: 1em; text-align: center; vertical-align: top\">1</td>\n",
       "        <td style=\"padding-left: 1em; padding-right: 1em; text-align: center; vertical-align: top\">0</td>\n",
       "    </tr>\n",
       "    <tr>\n",
       "        <td style=\"padding-left: 1em; padding-right: 1em; text-align: center; vertical-align: top\">7237550310</td>\n",
       "        <td style=\"padding-left: 1em; padding-right: 1em; text-align: center; vertical-align: top\">2014-05-12 00:00:00+00:00</td>\n",
       "        <td style=\"padding-left: 1em; padding-right: 1em; text-align: center; vertical-align: top\">1225000</td>\n",
       "        <td style=\"padding-left: 1em; padding-right: 1em; text-align: center; vertical-align: top\">4</td>\n",
       "        <td style=\"padding-left: 1em; padding-right: 1em; text-align: center; vertical-align: top\">4.5</td>\n",
       "        <td style=\"padding-left: 1em; padding-right: 1em; text-align: center; vertical-align: top\">5420</td>\n",
       "        <td style=\"padding-left: 1em; padding-right: 1em; text-align: center; vertical-align: top\">101930</td>\n",
       "        <td style=\"padding-left: 1em; padding-right: 1em; text-align: center; vertical-align: top\">1</td>\n",
       "        <td style=\"padding-left: 1em; padding-right: 1em; text-align: center; vertical-align: top\">0</td>\n",
       "    </tr>\n",
       "    <tr>\n",
       "        <td style=\"padding-left: 1em; padding-right: 1em; text-align: center; vertical-align: top\">1321400060</td>\n",
       "        <td style=\"padding-left: 1em; padding-right: 1em; text-align: center; vertical-align: top\">2014-06-27 00:00:00+00:00</td>\n",
       "        <td style=\"padding-left: 1em; padding-right: 1em; text-align: center; vertical-align: top\">257500</td>\n",
       "        <td style=\"padding-left: 1em; padding-right: 1em; text-align: center; vertical-align: top\">3</td>\n",
       "        <td style=\"padding-left: 1em; padding-right: 1em; text-align: center; vertical-align: top\">2.25</td>\n",
       "        <td style=\"padding-left: 1em; padding-right: 1em; text-align: center; vertical-align: top\">1715</td>\n",
       "        <td style=\"padding-left: 1em; padding-right: 1em; text-align: center; vertical-align: top\">6819</td>\n",
       "        <td style=\"padding-left: 1em; padding-right: 1em; text-align: center; vertical-align: top\">2</td>\n",
       "        <td style=\"padding-left: 1em; padding-right: 1em; text-align: center; vertical-align: top\">0</td>\n",
       "    </tr>\n",
       "    <tr>\n",
       "        <td style=\"padding-left: 1em; padding-right: 1em; text-align: center; vertical-align: top\">2008000270</td>\n",
       "        <td style=\"padding-left: 1em; padding-right: 1em; text-align: center; vertical-align: top\">2015-01-15 00:00:00+00:00</td>\n",
       "        <td style=\"padding-left: 1em; padding-right: 1em; text-align: center; vertical-align: top\">291850</td>\n",
       "        <td style=\"padding-left: 1em; padding-right: 1em; text-align: center; vertical-align: top\">3</td>\n",
       "        <td style=\"padding-left: 1em; padding-right: 1em; text-align: center; vertical-align: top\">1.5</td>\n",
       "        <td style=\"padding-left: 1em; padding-right: 1em; text-align: center; vertical-align: top\">1060</td>\n",
       "        <td style=\"padding-left: 1em; padding-right: 1em; text-align: center; vertical-align: top\">9711</td>\n",
       "        <td style=\"padding-left: 1em; padding-right: 1em; text-align: center; vertical-align: top\">1</td>\n",
       "        <td style=\"padding-left: 1em; padding-right: 1em; text-align: center; vertical-align: top\">0</td>\n",
       "    </tr>\n",
       "    <tr>\n",
       "        <td style=\"padding-left: 1em; padding-right: 1em; text-align: center; vertical-align: top\">2414600126</td>\n",
       "        <td style=\"padding-left: 1em; padding-right: 1em; text-align: center; vertical-align: top\">2015-04-15 00:00:00+00:00</td>\n",
       "        <td style=\"padding-left: 1em; padding-right: 1em; text-align: center; vertical-align: top\">229500</td>\n",
       "        <td style=\"padding-left: 1em; padding-right: 1em; text-align: center; vertical-align: top\">3</td>\n",
       "        <td style=\"padding-left: 1em; padding-right: 1em; text-align: center; vertical-align: top\">1</td>\n",
       "        <td style=\"padding-left: 1em; padding-right: 1em; text-align: center; vertical-align: top\">1780</td>\n",
       "        <td style=\"padding-left: 1em; padding-right: 1em; text-align: center; vertical-align: top\">7470</td>\n",
       "        <td style=\"padding-left: 1em; padding-right: 1em; text-align: center; vertical-align: top\">1</td>\n",
       "        <td style=\"padding-left: 1em; padding-right: 1em; text-align: center; vertical-align: top\">0</td>\n",
       "    </tr>\n",
       "    <tr>\n",
       "        <td style=\"padding-left: 1em; padding-right: 1em; text-align: center; vertical-align: top\">3793500160</td>\n",
       "        <td style=\"padding-left: 1em; padding-right: 1em; text-align: center; vertical-align: top\">2015-03-12 00:00:00+00:00</td>\n",
       "        <td style=\"padding-left: 1em; padding-right: 1em; text-align: center; vertical-align: top\">323000</td>\n",
       "        <td style=\"padding-left: 1em; padding-right: 1em; text-align: center; vertical-align: top\">3</td>\n",
       "        <td style=\"padding-left: 1em; padding-right: 1em; text-align: center; vertical-align: top\">2.5</td>\n",
       "        <td style=\"padding-left: 1em; padding-right: 1em; text-align: center; vertical-align: top\">1890</td>\n",
       "        <td style=\"padding-left: 1em; padding-right: 1em; text-align: center; vertical-align: top\">6560</td>\n",
       "        <td style=\"padding-left: 1em; padding-right: 1em; text-align: center; vertical-align: top\">2</td>\n",
       "        <td style=\"padding-left: 1em; padding-right: 1em; text-align: center; vertical-align: top\">0</td>\n",
       "    </tr>\n",
       "</table>\n",
       "<table frame=\"box\" rules=\"cols\">\n",
       "    <tr>\n",
       "        <th style=\"padding-left: 1em; padding-right: 1em; text-align: center\">view</th>\n",
       "        <th style=\"padding-left: 1em; padding-right: 1em; text-align: center\">condition</th>\n",
       "        <th style=\"padding-left: 1em; padding-right: 1em; text-align: center\">grade</th>\n",
       "        <th style=\"padding-left: 1em; padding-right: 1em; text-align: center\">sqft_above</th>\n",
       "        <th style=\"padding-left: 1em; padding-right: 1em; text-align: center\">sqft_basement</th>\n",
       "        <th style=\"padding-left: 1em; padding-right: 1em; text-align: center\">yr_built</th>\n",
       "        <th style=\"padding-left: 1em; padding-right: 1em; text-align: center\">yr_renovated</th>\n",
       "        <th style=\"padding-left: 1em; padding-right: 1em; text-align: center\">zipcode</th>\n",
       "        <th style=\"padding-left: 1em; padding-right: 1em; text-align: center\">lat</th>\n",
       "    </tr>\n",
       "    <tr>\n",
       "        <td style=\"padding-left: 1em; padding-right: 1em; text-align: center; vertical-align: top\">0</td>\n",
       "        <td style=\"padding-left: 1em; padding-right: 1em; text-align: center; vertical-align: top\">3</td>\n",
       "        <td style=\"padding-left: 1em; padding-right: 1em; text-align: center; vertical-align: top\">7</td>\n",
       "        <td style=\"padding-left: 1em; padding-right: 1em; text-align: center; vertical-align: top\">1180</td>\n",
       "        <td style=\"padding-left: 1em; padding-right: 1em; text-align: center; vertical-align: top\">0</td>\n",
       "        <td style=\"padding-left: 1em; padding-right: 1em; text-align: center; vertical-align: top\">1955</td>\n",
       "        <td style=\"padding-left: 1em; padding-right: 1em; text-align: center; vertical-align: top\">0</td>\n",
       "        <td style=\"padding-left: 1em; padding-right: 1em; text-align: center; vertical-align: top\">98178</td>\n",
       "        <td style=\"padding-left: 1em; padding-right: 1em; text-align: center; vertical-align: top\">47.51123398</td>\n",
       "    </tr>\n",
       "    <tr>\n",
       "        <td style=\"padding-left: 1em; padding-right: 1em; text-align: center; vertical-align: top\">0</td>\n",
       "        <td style=\"padding-left: 1em; padding-right: 1em; text-align: center; vertical-align: top\">3</td>\n",
       "        <td style=\"padding-left: 1em; padding-right: 1em; text-align: center; vertical-align: top\">7</td>\n",
       "        <td style=\"padding-left: 1em; padding-right: 1em; text-align: center; vertical-align: top\">2170</td>\n",
       "        <td style=\"padding-left: 1em; padding-right: 1em; text-align: center; vertical-align: top\">400</td>\n",
       "        <td style=\"padding-left: 1em; padding-right: 1em; text-align: center; vertical-align: top\">1951</td>\n",
       "        <td style=\"padding-left: 1em; padding-right: 1em; text-align: center; vertical-align: top\">1991</td>\n",
       "        <td style=\"padding-left: 1em; padding-right: 1em; text-align: center; vertical-align: top\">98125</td>\n",
       "        <td style=\"padding-left: 1em; padding-right: 1em; text-align: center; vertical-align: top\">47.72102274</td>\n",
       "    </tr>\n",
       "    <tr>\n",
       "        <td style=\"padding-left: 1em; padding-right: 1em; text-align: center; vertical-align: top\">0</td>\n",
       "        <td style=\"padding-left: 1em; padding-right: 1em; text-align: center; vertical-align: top\">3</td>\n",
       "        <td style=\"padding-left: 1em; padding-right: 1em; text-align: center; vertical-align: top\">6</td>\n",
       "        <td style=\"padding-left: 1em; padding-right: 1em; text-align: center; vertical-align: top\">770</td>\n",
       "        <td style=\"padding-left: 1em; padding-right: 1em; text-align: center; vertical-align: top\">0</td>\n",
       "        <td style=\"padding-left: 1em; padding-right: 1em; text-align: center; vertical-align: top\">1933</td>\n",
       "        <td style=\"padding-left: 1em; padding-right: 1em; text-align: center; vertical-align: top\">0</td>\n",
       "        <td style=\"padding-left: 1em; padding-right: 1em; text-align: center; vertical-align: top\">98028</td>\n",
       "        <td style=\"padding-left: 1em; padding-right: 1em; text-align: center; vertical-align: top\">47.73792661</td>\n",
       "    </tr>\n",
       "    <tr>\n",
       "        <td style=\"padding-left: 1em; padding-right: 1em; text-align: center; vertical-align: top\">0</td>\n",
       "        <td style=\"padding-left: 1em; padding-right: 1em; text-align: center; vertical-align: top\">5</td>\n",
       "        <td style=\"padding-left: 1em; padding-right: 1em; text-align: center; vertical-align: top\">7</td>\n",
       "        <td style=\"padding-left: 1em; padding-right: 1em; text-align: center; vertical-align: top\">1050</td>\n",
       "        <td style=\"padding-left: 1em; padding-right: 1em; text-align: center; vertical-align: top\">910</td>\n",
       "        <td style=\"padding-left: 1em; padding-right: 1em; text-align: center; vertical-align: top\">1965</td>\n",
       "        <td style=\"padding-left: 1em; padding-right: 1em; text-align: center; vertical-align: top\">0</td>\n",
       "        <td style=\"padding-left: 1em; padding-right: 1em; text-align: center; vertical-align: top\">98136</td>\n",
       "        <td style=\"padding-left: 1em; padding-right: 1em; text-align: center; vertical-align: top\">47.52082</td>\n",
       "    </tr>\n",
       "    <tr>\n",
       "        <td style=\"padding-left: 1em; padding-right: 1em; text-align: center; vertical-align: top\">0</td>\n",
       "        <td style=\"padding-left: 1em; padding-right: 1em; text-align: center; vertical-align: top\">3</td>\n",
       "        <td style=\"padding-left: 1em; padding-right: 1em; text-align: center; vertical-align: top\">8</td>\n",
       "        <td style=\"padding-left: 1em; padding-right: 1em; text-align: center; vertical-align: top\">1680</td>\n",
       "        <td style=\"padding-left: 1em; padding-right: 1em; text-align: center; vertical-align: top\">0</td>\n",
       "        <td style=\"padding-left: 1em; padding-right: 1em; text-align: center; vertical-align: top\">1987</td>\n",
       "        <td style=\"padding-left: 1em; padding-right: 1em; text-align: center; vertical-align: top\">0</td>\n",
       "        <td style=\"padding-left: 1em; padding-right: 1em; text-align: center; vertical-align: top\">98074</td>\n",
       "        <td style=\"padding-left: 1em; padding-right: 1em; text-align: center; vertical-align: top\">47.61681228</td>\n",
       "    </tr>\n",
       "    <tr>\n",
       "        <td style=\"padding-left: 1em; padding-right: 1em; text-align: center; vertical-align: top\">0</td>\n",
       "        <td style=\"padding-left: 1em; padding-right: 1em; text-align: center; vertical-align: top\">3</td>\n",
       "        <td style=\"padding-left: 1em; padding-right: 1em; text-align: center; vertical-align: top\">11</td>\n",
       "        <td style=\"padding-left: 1em; padding-right: 1em; text-align: center; vertical-align: top\">3890</td>\n",
       "        <td style=\"padding-left: 1em; padding-right: 1em; text-align: center; vertical-align: top\">1530</td>\n",
       "        <td style=\"padding-left: 1em; padding-right: 1em; text-align: center; vertical-align: top\">2001</td>\n",
       "        <td style=\"padding-left: 1em; padding-right: 1em; text-align: center; vertical-align: top\">0</td>\n",
       "        <td style=\"padding-left: 1em; padding-right: 1em; text-align: center; vertical-align: top\">98053</td>\n",
       "        <td style=\"padding-left: 1em; padding-right: 1em; text-align: center; vertical-align: top\">47.65611835</td>\n",
       "    </tr>\n",
       "    <tr>\n",
       "        <td style=\"padding-left: 1em; padding-right: 1em; text-align: center; vertical-align: top\">0</td>\n",
       "        <td style=\"padding-left: 1em; padding-right: 1em; text-align: center; vertical-align: top\">3</td>\n",
       "        <td style=\"padding-left: 1em; padding-right: 1em; text-align: center; vertical-align: top\">7</td>\n",
       "        <td style=\"padding-left: 1em; padding-right: 1em; text-align: center; vertical-align: top\">1715</td>\n",
       "        <td style=\"padding-left: 1em; padding-right: 1em; text-align: center; vertical-align: top\">0</td>\n",
       "        <td style=\"padding-left: 1em; padding-right: 1em; text-align: center; vertical-align: top\">1995</td>\n",
       "        <td style=\"padding-left: 1em; padding-right: 1em; text-align: center; vertical-align: top\">0</td>\n",
       "        <td style=\"padding-left: 1em; padding-right: 1em; text-align: center; vertical-align: top\">98003</td>\n",
       "        <td style=\"padding-left: 1em; padding-right: 1em; text-align: center; vertical-align: top\">47.30972002</td>\n",
       "    </tr>\n",
       "    <tr>\n",
       "        <td style=\"padding-left: 1em; padding-right: 1em; text-align: center; vertical-align: top\">0</td>\n",
       "        <td style=\"padding-left: 1em; padding-right: 1em; text-align: center; vertical-align: top\">3</td>\n",
       "        <td style=\"padding-left: 1em; padding-right: 1em; text-align: center; vertical-align: top\">7</td>\n",
       "        <td style=\"padding-left: 1em; padding-right: 1em; text-align: center; vertical-align: top\">1060</td>\n",
       "        <td style=\"padding-left: 1em; padding-right: 1em; text-align: center; vertical-align: top\">0</td>\n",
       "        <td style=\"padding-left: 1em; padding-right: 1em; text-align: center; vertical-align: top\">1963</td>\n",
       "        <td style=\"padding-left: 1em; padding-right: 1em; text-align: center; vertical-align: top\">0</td>\n",
       "        <td style=\"padding-left: 1em; padding-right: 1em; text-align: center; vertical-align: top\">98198</td>\n",
       "        <td style=\"padding-left: 1em; padding-right: 1em; text-align: center; vertical-align: top\">47.40949984</td>\n",
       "    </tr>\n",
       "    <tr>\n",
       "        <td style=\"padding-left: 1em; padding-right: 1em; text-align: center; vertical-align: top\">0</td>\n",
       "        <td style=\"padding-left: 1em; padding-right: 1em; text-align: center; vertical-align: top\">3</td>\n",
       "        <td style=\"padding-left: 1em; padding-right: 1em; text-align: center; vertical-align: top\">7</td>\n",
       "        <td style=\"padding-left: 1em; padding-right: 1em; text-align: center; vertical-align: top\">1050</td>\n",
       "        <td style=\"padding-left: 1em; padding-right: 1em; text-align: center; vertical-align: top\">730</td>\n",
       "        <td style=\"padding-left: 1em; padding-right: 1em; text-align: center; vertical-align: top\">1960</td>\n",
       "        <td style=\"padding-left: 1em; padding-right: 1em; text-align: center; vertical-align: top\">0</td>\n",
       "        <td style=\"padding-left: 1em; padding-right: 1em; text-align: center; vertical-align: top\">98146</td>\n",
       "        <td style=\"padding-left: 1em; padding-right: 1em; text-align: center; vertical-align: top\">47.51229381</td>\n",
       "    </tr>\n",
       "    <tr>\n",
       "        <td style=\"padding-left: 1em; padding-right: 1em; text-align: center; vertical-align: top\">0</td>\n",
       "        <td style=\"padding-left: 1em; padding-right: 1em; text-align: center; vertical-align: top\">3</td>\n",
       "        <td style=\"padding-left: 1em; padding-right: 1em; text-align: center; vertical-align: top\">7</td>\n",
       "        <td style=\"padding-left: 1em; padding-right: 1em; text-align: center; vertical-align: top\">1890</td>\n",
       "        <td style=\"padding-left: 1em; padding-right: 1em; text-align: center; vertical-align: top\">0</td>\n",
       "        <td style=\"padding-left: 1em; padding-right: 1em; text-align: center; vertical-align: top\">2003</td>\n",
       "        <td style=\"padding-left: 1em; padding-right: 1em; text-align: center; vertical-align: top\">0</td>\n",
       "        <td style=\"padding-left: 1em; padding-right: 1em; text-align: center; vertical-align: top\">98038</td>\n",
       "        <td style=\"padding-left: 1em; padding-right: 1em; text-align: center; vertical-align: top\">47.36840673</td>\n",
       "    </tr>\n",
       "</table>\n",
       "<table frame=\"box\" rules=\"cols\">\n",
       "    <tr>\n",
       "        <th style=\"padding-left: 1em; padding-right: 1em; text-align: center\">long</th>\n",
       "        <th style=\"padding-left: 1em; padding-right: 1em; text-align: center\">sqft_living15</th>\n",
       "        <th style=\"padding-left: 1em; padding-right: 1em; text-align: center\">sqft_lot15</th>\n",
       "    </tr>\n",
       "    <tr>\n",
       "        <td style=\"padding-left: 1em; padding-right: 1em; text-align: center; vertical-align: top\">-122.25677536</td>\n",
       "        <td style=\"padding-left: 1em; padding-right: 1em; text-align: center; vertical-align: top\">1340.0</td>\n",
       "        <td style=\"padding-left: 1em; padding-right: 1em; text-align: center; vertical-align: top\">5650.0</td>\n",
       "    </tr>\n",
       "    <tr>\n",
       "        <td style=\"padding-left: 1em; padding-right: 1em; text-align: center; vertical-align: top\">-122.3188624</td>\n",
       "        <td style=\"padding-left: 1em; padding-right: 1em; text-align: center; vertical-align: top\">1690.0</td>\n",
       "        <td style=\"padding-left: 1em; padding-right: 1em; text-align: center; vertical-align: top\">7639.0</td>\n",
       "    </tr>\n",
       "    <tr>\n",
       "        <td style=\"padding-left: 1em; padding-right: 1em; text-align: center; vertical-align: top\">-122.23319601</td>\n",
       "        <td style=\"padding-left: 1em; padding-right: 1em; text-align: center; vertical-align: top\">2720.0</td>\n",
       "        <td style=\"padding-left: 1em; padding-right: 1em; text-align: center; vertical-align: top\">8062.0</td>\n",
       "    </tr>\n",
       "    <tr>\n",
       "        <td style=\"padding-left: 1em; padding-right: 1em; text-align: center; vertical-align: top\">-122.39318505</td>\n",
       "        <td style=\"padding-left: 1em; padding-right: 1em; text-align: center; vertical-align: top\">1360.0</td>\n",
       "        <td style=\"padding-left: 1em; padding-right: 1em; text-align: center; vertical-align: top\">5000.0</td>\n",
       "    </tr>\n",
       "    <tr>\n",
       "        <td style=\"padding-left: 1em; padding-right: 1em; text-align: center; vertical-align: top\">-122.04490059</td>\n",
       "        <td style=\"padding-left: 1em; padding-right: 1em; text-align: center; vertical-align: top\">1800.0</td>\n",
       "        <td style=\"padding-left: 1em; padding-right: 1em; text-align: center; vertical-align: top\">7503.0</td>\n",
       "    </tr>\n",
       "    <tr>\n",
       "        <td style=\"padding-left: 1em; padding-right: 1em; text-align: center; vertical-align: top\">-122.00528655</td>\n",
       "        <td style=\"padding-left: 1em; padding-right: 1em; text-align: center; vertical-align: top\">4760.0</td>\n",
       "        <td style=\"padding-left: 1em; padding-right: 1em; text-align: center; vertical-align: top\">101930.0</td>\n",
       "    </tr>\n",
       "    <tr>\n",
       "        <td style=\"padding-left: 1em; padding-right: 1em; text-align: center; vertical-align: top\">-122.32704857</td>\n",
       "        <td style=\"padding-left: 1em; padding-right: 1em; text-align: center; vertical-align: top\">2238.0</td>\n",
       "        <td style=\"padding-left: 1em; padding-right: 1em; text-align: center; vertical-align: top\">6819.0</td>\n",
       "    </tr>\n",
       "    <tr>\n",
       "        <td style=\"padding-left: 1em; padding-right: 1em; text-align: center; vertical-align: top\">-122.31457273</td>\n",
       "        <td style=\"padding-left: 1em; padding-right: 1em; text-align: center; vertical-align: top\">1650.0</td>\n",
       "        <td style=\"padding-left: 1em; padding-right: 1em; text-align: center; vertical-align: top\">9711.0</td>\n",
       "    </tr>\n",
       "    <tr>\n",
       "        <td style=\"padding-left: 1em; padding-right: 1em; text-align: center; vertical-align: top\">-122.33659507</td>\n",
       "        <td style=\"padding-left: 1em; padding-right: 1em; text-align: center; vertical-align: top\">1780.0</td>\n",
       "        <td style=\"padding-left: 1em; padding-right: 1em; text-align: center; vertical-align: top\">8113.0</td>\n",
       "    </tr>\n",
       "    <tr>\n",
       "        <td style=\"padding-left: 1em; padding-right: 1em; text-align: center; vertical-align: top\">-122.0308176</td>\n",
       "        <td style=\"padding-left: 1em; padding-right: 1em; text-align: center; vertical-align: top\">2390.0</td>\n",
       "        <td style=\"padding-left: 1em; padding-right: 1em; text-align: center; vertical-align: top\">7570.0</td>\n",
       "    </tr>\n",
       "</table>\n",
       "[21613 rows x 21 columns]<br/>Note: Only the head of the SFrame is printed.<br/>You can use print_rows(num_rows=m, num_columns=n) to print more rows and columns.\n",
       "</div>"
      ],
      "text/plain": [
       "Columns:\n",
       "\tid\tstr\n",
       "\tdate\tdatetime\n",
       "\tprice\tint\n",
       "\tbedrooms\tstr\n",
       "\tbathrooms\tstr\n",
       "\tsqft_living\tint\n",
       "\tsqft_lot\tint\n",
       "\tfloors\tstr\n",
       "\twaterfront\tint\n",
       "\tview\tint\n",
       "\tcondition\tint\n",
       "\tgrade\tint\n",
       "\tsqft_above\tint\n",
       "\tsqft_basement\tint\n",
       "\tyr_built\tint\n",
       "\tyr_renovated\tint\n",
       "\tzipcode\tstr\n",
       "\tlat\tfloat\n",
       "\tlong\tfloat\n",
       "\tsqft_living15\tfloat\n",
       "\tsqft_lot15\tfloat\n",
       "\n",
       "Rows: 21613\n",
       "\n",
       "Data:\n",
       "+------------+---------------------------+---------+----------+-----------+-------------+\n",
       "|     id     |            date           |  price  | bedrooms | bathrooms | sqft_living |\n",
       "+------------+---------------------------+---------+----------+-----------+-------------+\n",
       "| 7129300520 | 2014-10-13 00:00:00+00:00 |  221900 |    3     |     1     |     1180    |\n",
       "| 6414100192 | 2014-12-09 00:00:00+00:00 |  538000 |    3     |    2.25   |     2570    |\n",
       "| 5631500400 | 2015-02-25 00:00:00+00:00 |  180000 |    2     |     1     |     770     |\n",
       "| 2487200875 | 2014-12-09 00:00:00+00:00 |  604000 |    4     |     3     |     1960    |\n",
       "| 1954400510 | 2015-02-18 00:00:00+00:00 |  510000 |    3     |     2     |     1680    |\n",
       "| 7237550310 | 2014-05-12 00:00:00+00:00 | 1225000 |    4     |    4.5    |     5420    |\n",
       "| 1321400060 | 2014-06-27 00:00:00+00:00 |  257500 |    3     |    2.25   |     1715    |\n",
       "| 2008000270 | 2015-01-15 00:00:00+00:00 |  291850 |    3     |    1.5    |     1060    |\n",
       "| 2414600126 | 2015-04-15 00:00:00+00:00 |  229500 |    3     |     1     |     1780    |\n",
       "| 3793500160 | 2015-03-12 00:00:00+00:00 |  323000 |    3     |    2.5    |     1890    |\n",
       "+------------+---------------------------+---------+----------+-----------+-------------+\n",
       "+----------+--------+------------+------+-----------+-------+------------+---------------+\n",
       "| sqft_lot | floors | waterfront | view | condition | grade | sqft_above | sqft_basement |\n",
       "+----------+--------+------------+------+-----------+-------+------------+---------------+\n",
       "|   5650   |   1    |     0      |  0   |     3     |   7   |    1180    |       0       |\n",
       "|   7242   |   2    |     0      |  0   |     3     |   7   |    2170    |      400      |\n",
       "|  10000   |   1    |     0      |  0   |     3     |   6   |    770     |       0       |\n",
       "|   5000   |   1    |     0      |  0   |     5     |   7   |    1050    |      910      |\n",
       "|   8080   |   1    |     0      |  0   |     3     |   8   |    1680    |       0       |\n",
       "|  101930  |   1    |     0      |  0   |     3     |   11  |    3890    |      1530     |\n",
       "|   6819   |   2    |     0      |  0   |     3     |   7   |    1715    |       0       |\n",
       "|   9711   |   1    |     0      |  0   |     3     |   7   |    1060    |       0       |\n",
       "|   7470   |   1    |     0      |  0   |     3     |   7   |    1050    |      730      |\n",
       "|   6560   |   2    |     0      |  0   |     3     |   7   |    1890    |       0       |\n",
       "+----------+--------+------------+------+-----------+-------+------------+---------------+\n",
       "+----------+--------------+---------+-------------+---------------+---------------+-----+\n",
       "| yr_built | yr_renovated | zipcode |     lat     |      long     | sqft_living15 | ... |\n",
       "+----------+--------------+---------+-------------+---------------+---------------+-----+\n",
       "|   1955   |      0       |  98178  | 47.51123398 | -122.25677536 |     1340.0    | ... |\n",
       "|   1951   |     1991     |  98125  | 47.72102274 |  -122.3188624 |     1690.0    | ... |\n",
       "|   1933   |      0       |  98028  | 47.73792661 | -122.23319601 |     2720.0    | ... |\n",
       "|   1965   |      0       |  98136  |   47.52082  | -122.39318505 |     1360.0    | ... |\n",
       "|   1987   |      0       |  98074  | 47.61681228 | -122.04490059 |     1800.0    | ... |\n",
       "|   2001   |      0       |  98053  | 47.65611835 | -122.00528655 |     4760.0    | ... |\n",
       "|   1995   |      0       |  98003  | 47.30972002 | -122.32704857 |     2238.0    | ... |\n",
       "|   1963   |      0       |  98198  | 47.40949984 | -122.31457273 |     1650.0    | ... |\n",
       "|   1960   |      0       |  98146  | 47.51229381 | -122.33659507 |     1780.0    | ... |\n",
       "|   2003   |      0       |  98038  | 47.36840673 |  -122.0308176 |     2390.0    | ... |\n",
       "+----------+--------------+---------+-------------+---------------+---------------+-----+\n",
       "[21613 rows x 21 columns]\n",
       "Note: Only the head of the SFrame is printed.\n",
       "You can use print_rows(num_rows=m, num_columns=n) to print more rows and columns."
      ]
     },
     "execution_count": 6,
     "metadata": {},
     "output_type": "execute_result"
    }
   ],
   "source": [
    "sales"
   ]
  },
  {
   "cell_type": "markdown",
   "metadata": {},
   "source": [
    "Create Scatter Plot"
   ]
  },
  {
   "cell_type": "code",
   "execution_count": 10,
   "metadata": {},
   "outputs": [],
   "source": [
    "graphlab.canvas.set_target('ipynb')"
   ]
  },
  {
   "cell_type": "code",
   "execution_count": 16,
   "metadata": {},
   "outputs": [
    {
     "data": {
      "application/javascript": [
       "$(\"head\").append($(\"<link/>\").attr({\n",
       "  rel:  \"stylesheet\",\n",
       "  type: \"text/css\",\n",
       "  href: \"//cdnjs.cloudflare.com/ajax/libs/font-awesome/4.1.0/css/font-awesome.min.css\"\n",
       "}));\n",
       "$(\"head\").append($(\"<link/>\").attr({\n",
       "  rel:  \"stylesheet\",\n",
       "  type: \"text/css\",\n",
       "  href: \"https://static.turi.com/products/graphlab-create/2.1/canvas/css/canvas.css\"\n",
       "}));\n",
       "\n",
       "            (function(){\n",
       "\n",
       "                var e = null;\n",
       "                if (typeof element == 'undefined') {\n",
       "                    var scripts = document.getElementsByTagName('script');\n",
       "                    var thisScriptTag = scripts[scripts.length-1];\n",
       "                    var parentDiv = thisScriptTag.parentNode;\n",
       "                    e = document.createElement('div');\n",
       "                    parentDiv.appendChild(e);\n",
       "                } else {\n",
       "                    e = element[0];\n",
       "                }\n",
       "\n",
       "                if (typeof requirejs !== 'undefined') {\n",
       "                    // disable load timeout; ipython_app.js is large and can take a while to load.\n",
       "                    requirejs.config({waitSeconds: 0});\n",
       "                }\n",
       "\n",
       "                require(['https://static.turi.com/products/graphlab-create/2.1/canvas/js/ipython_app.js'], function(IPythonApp){\n",
       "                    var app = new IPythonApp();\n",
       "                    app.attachView('sframe','Plots', {\"selected_variable\": {\"name\": [\"sales\"], \"descriptives\": {\"rows\": 21613, \"columns\": 21}, \"view_component\": \"Plots\", \"view_file\": \"sframe\", \"view_params\": {\"y\": \"price\", \"x\": \"sqft_living\", \"columns\": [\"id\", \"date\", \"price\", \"bedrooms\", \"bathrooms\", \"sqft_living\", \"sqft_lot\", \"floors\", \"waterfront\", \"view\", \"condition\", \"grade\", \"sqft_above\", \"sqft_basement\", \"yr_built\", \"yr_renovated\", \"zipcode\", \"lat\", \"long\", \"sqft_living15\", \"sqft_lot15\"], \"view\": \"Scatter Plot\"}, \"view_components\": [\"Summary\", \"Table\", \"Bar Chart\", \"BoxWhisker Plot\", \"Line Chart\", \"Scatter Plot\", \"Heat Map\", \"Plots\"], \"type\": \"SFrame\", \"columns\": [{\"dtype\": \"str\", \"name\": \"id\"}, {\"dtype\": \"datetime\", \"name\": \"date\"}, {\"dtype\": \"int\", \"name\": \"price\"}, {\"dtype\": \"str\", \"name\": \"bedrooms\"}, {\"dtype\": \"str\", \"name\": \"bathrooms\"}, {\"dtype\": \"int\", \"name\": \"sqft_living\"}, {\"dtype\": \"int\", \"name\": \"sqft_lot\"}, {\"dtype\": \"str\", \"name\": \"floors\"}, {\"dtype\": \"int\", \"name\": \"waterfront\"}, {\"dtype\": \"int\", \"name\": \"view\"}, {\"dtype\": \"int\", \"name\": \"condition\"}, {\"dtype\": \"int\", \"name\": \"grade\"}, {\"dtype\": \"int\", \"name\": \"sqft_above\"}, {\"dtype\": \"int\", \"name\": \"sqft_basement\"}, {\"dtype\": \"int\", \"name\": \"yr_built\"}, {\"dtype\": \"int\", \"name\": \"yr_renovated\"}, {\"dtype\": \"str\", \"name\": \"zipcode\"}, {\"dtype\": \"float\", \"name\": \"lat\"}, {\"dtype\": \"float\", \"name\": \"long\"}, {\"dtype\": \"float\", \"name\": \"sqft_living15\"}, {\"dtype\": \"float\", \"name\": \"sqft_lot15\"}], \"column_identifiers\": [\"bathrooms\", \"sqft_living15\", \"sqft_above\", \"grade\", \"yr_built\", \"price\", \"bedrooms\", \"zipcode\", \"long\", \"id\", \"sqft_lot15\", \"sqft_living\", \"floors\", \"sqft_lot\", \"date\", \"waterfront\", \"sqft_basement\", \"yr_renovated\", \"lat\", \"condition\", \"view\"]}, \"complete\": 1, \"ipython\": true, \"progress\": 1.0, \"data\": [[3130, 675000], [2030, 405000], [870, 240000], [1060, 641200], [1340, 621000], [3510, 729950], [2500, 565000], [2040, 561750], [1140, 355000], [1830, 275000], [3560, 662500], [1720, 608000], [1440, 491000], [5770, 1535000], [1810, 530000], [4070, 965000], [1600, 670000], [2250, 350000], [870, 166000], [2500, 250000], [4560, 1100000], [1120, 343000], [2240, 500000], [1370, 797000], [970, 165000], [2650, 725000], [910, 465000], [980, 375000], [920, 203000], [2000, 399950], [4210, 1146800], [2390, 314500], [2910, 610000], [2160, 430000], [2480, 480000], [1550, 418000], [1400, 225000], [3380, 1346400], [3050, 600000], [2040, 355000], [1740, 827235], [1790, 416000], [1840, 285000], [1080, 225000], [600, 174000], [1400, 507250], [1550, 707500], [6210, 3200000], [1890, 587206], [2460, 620000], [1190, 228000], [1640, 420000], [1160, 425000], [2290, 825000], [1580, 216000], [1150, 252000], [1680, 599950], [1890, 378000], [2510, 624000], [7400, 2983000], [1520, 672600], [1890, 325000], [1610, 440000], [4300, 600000], [1860, 314950], [1310, 218000], [2320, 674000], [1700, 334950], [2620, 399963], [1350, 270000], [1280, 389000], [2150, 550000], [1990, 293000], [1500, 485000], [3040, 540000], [1270, 256000], [3120, 315000], [1370, 235000], [1440, 199000], [2200, 325000], [1600, 290000], [1320, 412000], [2400, 885000], [2240, 580379], [1340, 124740], [1950, 525126], [880, 210000], [1920, 625000], [1830, 460000], [1030, 335000], [3320, 989900], [880, 190000], [2110, 319000], [1986, 715000], [2610, 725000], [1670, 1236000], [1250, 468000], [1300, 329950], [1040, 227000], [1330, 479000], [2070, 850830], [2030, 831000], [1210, 215000], [830, 394475], [2840, 600000], [2130, 749000], [3080, 579950], [2140, 270000], [3060, 775000], [1230, 270000], [2130, 645000], [3140, 920000], [1040, 550000], [1370, 225000], [2660, 447000], [4000, 771005], [1340, 324950], [1640, 1014250], [1510, 374000], [1750, 330000], [940, 180000], [1460, 625000], [1910, 390000], [2060, 533000], [1060, 354000], [2370, 411000], [800, 353500], [2830, 451000], [1880, 452000], [730, 114000], [1800, 517500], [2020, 290000], [1230, 273000], [2310, 815000], [1730, 292000], [1420, 335000], [1100, 353000], [990, 222000], [1680, 625000], [3400, 865000], [1800, 579000], [1330, 239000], [1080, 207000], [1120, 355000], [1430, 425000], [1580, 536000], [1740, 600000], [1510, 299000], [2740, 385000], [2890, 655000], [3690, 1580000], [1920, 542500], [2250, 729000], [1400, 431750], [3390, 780000], [2040, 510000], [2550, 353000], [2640, 320000], [1330, 405000], [1850, 547500], [1720, 220000], [3160, 558000], [1240, 357823], [1290, 275000], [1970, 262000], [710, 216000], [2790, 1160000], [730, 140000], [2950, 386500], [820, 102500], [1910, 299000], [1240, 374950], [2450, 340000], [2070, 449950], [1690, 404763], [3300, 1250000], [2010, 380000], [3610, 968000], [930, 395000], [1470, 490000], [1840, 560000], [1310, 320000], [4020, 1075000], [2710, 600000], [1670, 294000], [1320, 150000], [930, 355000], [2500, 350000], [1680, 840000], [2100, 342500], [2080, 420000], [1320, 650000], [1830, 360000], [2050, 713250], [1420, 510000], [1320, 345000], [2550, 490000], [1580, 406000], [2410, 432000], [2630, 420000], [1940, 274000], [3000, 527000], [2590, 368000], [1250, 212000], [1760, 469950], [1560, 288000], [2500, 330000], [3050, 1038000], [1110, 293000], [1560, 254000], [1830, 312500], [1120, 243950], [3500, 790000], [1070, 401750], [1320, 325000], [1010, 147500], [1410, 299950], [2370, 688100], [1010, 350000], [1370, 175000], [1170, 207500], [2950, 835000], [1650, 378000], [1590, 305000], [2150, 360000], [1510, 530000], [1830, 295000], [1570, 284200], [1040, 390000], [2700, 1060000], [1150, 225000], [2330, 1150000], [3360, 738515], [2080, 969500], [2370, 1057000], [1670, 204700], [2620, 680000], [3010, 500000], [1640, 350000], [3250, 570000], [2530, 975000], [2070, 445800], [2710, 630000], [1370, 420550], [3430, 997000], [2280, 820000], [2580, 379950], [3320, 760000], [910, 223000], [1750, 524950], [3080, 1165000], [2331, 345000], [1950, 370000], [1400, 349500], [2423, 290000], [3600, 760000], [800, 373500], [1560, 299950], [3040, 598555], [3840, 970000], [1232, 344000], [2600, 475000], [2190, 980000], [2720, 710000], [2290, 326000], [1700, 750000], [1120, 285000], [1220, 258000], [1300, 305240], [3040, 500000], [830, 235000], [1020, 285000], [1470, 399950], [1020, 180000], [2230, 635000], [1070, 212000], [1440, 445000], [3820, 770000], [1990, 675000], [2540, 759990], [1740, 415000], [1180, 220000], [1650, 238000], [1260, 425000], [1300, 170000], [1330, 399950], [3000, 666000], [2480, 729000], [1490, 255000], [1040, 230000], [2570, 379000], [2490, 634000], [1020, 160000], [3380, 569950], [3500, 840000], [750, 258000], [910, 350000], [2510, 450800], [1090, 240000], [2360, 459000], [1260, 248000], [2960, 472500], [5000, 1730000], [2730, 612500], [1500, 240000], [900, 329000], [930, 390000], [2350, 245000], [1460, 675000], [2500, 640000], [2370, 834000], [5090, 3100000], [2820, 697000], [2420, 282000], [1350, 397500], [1690, 519990], [3210, 770000], [2450, 450000], [1420, 716000], [2010, 364000], [1710, 430000], [970, 345000], [1090, 249000], [1490, 390000], [1280, 165000], [2290, 359950], [3090, 780000], [2190, 370000], [2810, 1169000], [1390, 560000], [1070, 195000], [4060, 970000], [2400, 268000], [1180, 195000], [2160, 750000], [3460, 746500], [1720, 240000], [1490, 258000], [1850, 485000], [4360, 1980000], [1510, 410000], [1252, 352000], [1580, 375000], [2370, 715000], [2640, 489950], [1570, 299990], [1000, 239900], [1880, 618000], [1360, 419500], [1600, 625000], [1480, 505000], [3960, 1185000], [1300, 562000], [2680, 359999], [1460, 427000], [1690, 875000], [2070, 501000], [1200, 190000], [1740, 173000], [1290, 781000], [2080, 300000], [1360, 507000], [1750, 774900], [1430, 230000], [2630, 589000], [1450, 287000], [2010, 299500], [1260, 485000], [1510, 468000], [1060, 336000], [2200, 300000], [890, 334000], [1220, 250000], [2460, 439950], [1810, 430000], [2600, 428000], [1290, 300000], [2300, 352500], [2100, 750000], [1910, 554000], [1810, 515000], [1310, 398000], [3640, 1651000], [1270, 226000], [1590, 385000], [1880, 616500], [2190, 565000], [1630, 313000], [1170, 265000], [1830, 470000], [2390, 664000], [1890, 385000], [2110, 385000], [3620, 1015000], [3840, 840000], [3290, 716500], [1910, 297500], [1500, 294900], [1200, 165000], [2290, 975000], [1690, 467000], [670, 185000], [1360, 703000], [1750, 437000], [1530, 279000], [2050, 601002], [1180, 345000], [850, 308500], [3020, 845800], [1790, 380000], [2880, 579950], [3450, 950000], [1230, 435000], [1340, 345950], [2160, 355000], [1720, 713500], [2085, 563500], [1770, 369900], [2120, 720000], [3030, 740000], [2870, 665900], [2040, 375000], [1660, 515000], [2310, 713000], [1790, 432100], [2780, 1650000], [3200, 497300], [1660, 432000], [3730, 649500], [1690, 230500], [2432, 427000], [1670, 425000], [1020, 485000], [2530, 331950], [7120, 900000], [3200, 1184000], [1330, 787000], [1180, 455000], [4420, 1205000], [1450, 393000], [1650, 470000], [3340, 701000], [4140, 1060000], [1980, 220000], [790, 439000], [1920, 400000], [1480, 418000], [1840, 590000], [910, 100000], [2590, 520000], [1610, 565000], [840, 199950], [1946, 485000], [2840, 665000], [1780, 545000], [1820, 417000], [3180, 340000], [3000, 379000], [2890, 1100000], [1290, 362000], [860, 278000], [2460, 704111], [1750, 380000], [3240, 800000], [1230, 184900], [1160, 294950], [870, 170000], [2930, 445000], [3670, 525000], [2700, 910000], [1810, 266490], [3150, 935000], [1550, 430000], [740, 213000], [2160, 590000], [2600, 817000], [670, 304950], [910, 107000], [2430, 342000], [1700, 895000], [2590, 760000], [5160, 1900000], [1040, 440000], [2360, 1325000], [1870, 248000], [2820, 934000], [1710, 260000], [2040, 499000], [1420, 192500], [1580, 489950], [1980, 400000], [1950, 785000], [1200, 179950], [2120, 680000], [1090, 460000], [2260, 632000], [2240, 325000], [2030, 225000], [2000, 440000], [720, 217000], [1230, 320000], [2410, 520000], [1540, 570000], [2310, 890000], [1270, 299000], [3020, 617000], [2440, 330000], [1630, 740000], [2260, 605000], [1300, 415000], [4400, 687000], [1020, 230000], [1960, 540000], [2020, 463000], [950, 304000], [1200, 464950], [1220, 253000], [2870, 540000], [1930, 325000], [1850, 305500], [3830, 963990], [2730, 769900], [2530, 515000], [1640, 560000], [3070, 341950], [1790, 250000], [2360, 317000], [850, 360000], [1050, 332888], [3460, 980000], [1780, 270500], [1710, 230000], [3570, 935000], [2340, 645000], [2170, 442500], [780, 250000], [1140, 200000], [1950, 480000], [3610, 635000], [2110, 590000], [1850, 678100], [3370, 1065000], [1270, 465000], [2160, 856000], [790, 325000], [5400, 1210000], [3160, 545000], [2410, 648000], [3560, 770000], [1680, 260000], [900, 205500], [2800, 883000], [4930, 600000], [1800, 258500], [2320, 779000], [1460, 235000], [1970, 385000], [1690, 370000], [740, 213800], [1730, 299000], [1310, 200000], [1980, 432500], [2540, 627500], [2120, 278100], [2380, 590000], [2680, 788000], [4270, 1356925], [900, 185000], [2650, 731500], [2670, 665000], [4160, 1850000], [2160, 345500], [3630, 633000], [1650, 440000], [1130, 262500], [1700, 616300], [1360, 223000], [1910, 230000], [1540, 302000], [1660, 270000], [2610, 2000000], [2370, 1000000], [940, 355000], [2020, 450000], [7710, 3300000], [2640, 570000], [2160, 640000], [2160, 305000], [1500, 255950], [2870, 564000], [1200, 438000], [1020, 225000], [2260, 865000], [1680, 286000], [1802, 320000], [4360, 1789950], [2020, 458000], [2990, 820000], [2430, 359000], [1350, 700000], [4200, 1460000], [1960, 403000], [2200, 1050000], [3640, 932990], [1450, 435500], [3540, 2200000], [2390, 926250], [960, 225000], [2640, 895000], [2320, 775000], [840, 202000], [1540, 176000], [800, 250000], [4340, 537500], [1720, 398000], [1410, 225000], [1940, 505000], [1780, 354950], [1290, 525000], [670, 435000], [1840, 650000], [1400, 269950], [1650, 643500], [2590, 570000], [2920, 675000], [2720, 594000], [1070, 312500], [4100, 890000], [1560, 544300], [1220, 655100], [2310, 330000], [1320, 455000], [1760, 365000], [1000, 396480], [1210, 173250], [1830, 270000], [7220, 1940000], [2110, 327000], [1610, 225000], [2810, 810000], [3310, 999950], [1670, 425000], [1650, 550000], [840, 105000], [3840, 884250], [1980, 470000], [2100, 625000], [1320, 530000], [1700, 314500], [2260, 640000], [3250, 463828], [3120, 444900], [2650, 615000], [850, 320000], [1140, 399995], [2180, 545000], [1920, 440000], [2990, 779950], [1960, 277000], [1470, 344950], [2320, 1070000], [2290, 343000], [2840, 718500], [5770, 3850000], [1420, 500000], [1330, 552100], [2050, 369950], [1880, 538000], [2460, 640000], [2200, 359000], [2460, 638250], [2290, 565000], [1330, 540000], [1070, 406650], [1080, 339000], [1310, 235000], [1300, 398000], [1480, 370000], [1270, 415000], [2260, 604000], [1899, 289900], [4010, 1385000], [420, 280000], [1560, 449950], [2790, 685100], [3070, 880000], [2000, 358500], [2510, 811000], [1910, 498500], [2910, 620000], [1500, 260000], [1730, 575000], [2380, 340000], [1560, 545500], [1500, 235000], [1460, 162000], [2120, 625000], [1580, 580000], [1340, 215000], [2290, 590000], [2780, 479950], [1769, 495000], [2510, 479900], [2940, 482500], [1370, 255500], [3110, 799990], [2200, 505000], [1760, 287500], [1980, 744000], [2240, 242000], [2590, 690000], [1030, 326000], [1090, 430000], [1230, 356000], [1550, 405000], [1490, 385000], [2420, 820000], [1270, 433000], [1830, 212000], [1280, 520000], [3260, 353950], [2150, 310000], [3490, 975000], [1120, 445000], [2650, 672500], [1070, 500000], [1790, 650000], [2100, 370000], [3140, 409000], [2301, 375500], [1070, 220000], [2270, 352750], [720, 185000], [900, 243500], [1020, 625000], [2770, 700000], [1910, 588000], [1330, 339950], [3190, 757000], [2090, 546200], [1770, 487000], [1570, 419000], [1730, 515000], [2100, 625000], [1280, 183000], [2070, 469000], [1730, 313100], [3060, 475000], [1490, 507000], [1510, 545000], [1460, 499000], [3860, 1160000], [2720, 456000], [1430, 275000], [3180, 585000], [1610, 268000], [1890, 651000], [1110, 375000], [1190, 332900], [2220, 555000], [1060, 353250], [1190, 400000], [3010, 419000], [3030, 1470000], [1310, 470000], [2310, 588000], [770, 212000], [3310, 429900], [1830, 494000], [2100, 465000], [3680, 1378000], [1310, 475000], [1940, 577000], [2780, 1140000], [1800, 436000], [700, 328000], [4000, 570000], [930, 160000], [720, 199900], [3020, 755000], [1900, 536000], [1610, 215000], [1870, 455000], [2584, 429900], [1100, 392500], [2290, 580000], [2480, 374900], [2040, 325000], [960, 180000], [1480, 500000], [2440, 729000], [1780, 406500], [1120, 340000], [1940, 359000], [2020, 300000], [1620, 580000], [1900, 427500], [2880, 439000], [560, 90000], [1940, 450000], [1590, 599000], [3190, 1216000], [1600, 384500], [1720, 280000], [2830, 680000], [1320, 660000], [3230, 1150000], [1340, 369000], [2430, 365000], [3910, 709950], [2210, 509950], [1180, 419000], [1250, 235000], [2170, 840000], [1620, 680000], [1360, 520000], [1620, 355300], [2300, 298950], [2760, 682000], [1630, 290000], [2070, 577000], [1840, 380000], [2344, 791000], [930, 178500], [1000, 332000], [2050, 495000], [1610, 510000], [2000, 440000], [1040, 250000], [1210, 132825], [1240, 140000], [1760, 608000], [1470, 630000], [2660, 768000], [1500, 242000], [1720, 535000], [1400, 270000], [1150, 383000], [2510, 285000], [2080, 940000], [2730, 565000], [1460, 175000], [3600, 970000], [1220, 257000], [1770, 667000], [1430, 270000], [2360, 1755000], [1770, 630000], [1610, 512000], [1870, 230000], [2640, 823000], [1300, 445950], [1710, 282900], [3920, 889000], [1480, 598950], [1770, 600000], [700, 225000], [3070, 1495000], [1260, 661000], [1300, 350000], [2360, 355500], [2410, 530000], [2020, 495000], [1930, 326000], [1280, 687500], [1960, 561500], [3690, 725000], [1260, 528000], [1970, 435000], [2640, 790000], [3190, 535000], [2790, 695000], [2180, 340000], [1930, 469500], [1520, 207000], [1320, 313000], [2020, 744000], [2900, 413000], [1460, 415000], [1160, 199500], [1040, 285650], [2160, 402500], [910, 605000], [2530, 1120275], [2800, 380000], [2160, 260000], [2350, 725000], [1140, 466000], [2630, 731781], [1670, 304000], [2340, 360000], [2010, 350000], [2910, 395000], [1975, 311000], [1170, 295000], [1540, 441000], [2420, 298500], [6630, 1240000], [2000, 520000], [2000, 690500], [3090, 659000], [2050, 750000], [2620, 675000], [1540, 325500], [1110, 279000], [1270, 386100], [2540, 550500], [2190, 625000], [1860, 580000], [2010, 487585], [1120, 205000], [2440, 689000], [1640, 390000], [4570, 1060000], [1640, 218000], [790, 150000], [1720, 275000], [940, 115000], [1720, 772500], [3960, 1180000], [2040, 825000], [3060, 520000], [2200, 950000], [1480, 479000], [1440, 562100], [2080, 460000], [2630, 583000], [1310, 428000], [860, 370000], [2790, 485000], [1360, 244900], [1600, 240000], [1740, 405000], [4420, 1315000], [2830, 450000], [2520, 500000], [3100, 950000], [1870, 330000], [2770, 641000], [920, 152000], [1280, 340000], [2000, 236000], [2200, 295000], [1280, 245000], [3010, 837700], [1580, 540000], [3160, 1381000], [4475, 2574000], [800, 325000], [2820, 685000], [2760, 445000], [4610, 630000], [790, 90000], [1800, 625000], [1690, 260000], [1360, 540000], [1610, 395000], [1800, 930000], [1481, 250000], [2000, 570000], [1320, 260000], [670, 202000], [2800, 490000], [1600, 442500], [1550, 622000], [2810, 395000], [1610, 338950], [1270, 380500], [1560, 279000], [2110, 369000], [1300, 685000], [3380, 749000], [2230, 560000], [1120, 554000], [1780, 250000], [1490, 348000], [2320, 307000], [1120, 549995], [930, 368000], [810, 229000], [2530, 657000], [1470, 265953], [1840, 521000], [1660, 685000], [1550, 222000], [1850, 495000], [3420, 2250000], [1010, 174500], [1500, 399000], [2010, 316000], [2350, 613500], [920, 255000], [1480, 375950], [2014, 321000], [1680, 380000], [3720, 1520000], [1150, 115000], [1450, 277000], [1590, 225500], [1090, 152000]], \"columns\": [{\"dtype\": \"str\", \"name\": \"id\"}, {\"dtype\": \"datetime\", \"name\": \"date\"}, {\"dtype\": \"int\", \"name\": \"price\"}, {\"dtype\": \"str\", \"name\": \"bedrooms\"}, {\"dtype\": \"str\", \"name\": \"bathrooms\"}, {\"dtype\": \"int\", \"name\": \"sqft_living\"}, {\"dtype\": \"int\", \"name\": \"sqft_lot\"}, {\"dtype\": \"str\", \"name\": \"floors\"}, {\"dtype\": \"int\", \"name\": \"waterfront\"}, {\"dtype\": \"int\", \"name\": \"view\"}, {\"dtype\": \"int\", \"name\": \"condition\"}, {\"dtype\": \"int\", \"name\": \"grade\"}, {\"dtype\": \"int\", \"name\": \"sqft_above\"}, {\"dtype\": \"int\", \"name\": \"sqft_basement\"}, {\"dtype\": \"int\", \"name\": \"yr_built\"}, {\"dtype\": \"int\", \"name\": \"yr_renovated\"}, {\"dtype\": \"str\", \"name\": \"zipcode\"}, {\"dtype\": \"float\", \"name\": \"lat\"}, {\"dtype\": \"float\", \"name\": \"long\"}, {\"dtype\": \"float\", \"name\": \"sqft_living15\"}, {\"dtype\": \"float\", \"name\": \"sqft_lot15\"}]}, e);\n",
       "                });\n",
       "            })();\n",
       "        "
      ]
     },
     "metadata": {},
     "output_type": "display_data"
    }
   ],
   "source": [
    "sales.show(view=\"Scatter Plot\", x=\"sqft_living\", y=\"price\")"
   ]
  },
  {
   "cell_type": "code",
   "execution_count": 18,
   "metadata": {},
   "outputs": [
    {
     "data": {
      "application/javascript": [
       "$(\"head\").append($(\"<link/>\").attr({\n",
       "  rel:  \"stylesheet\",\n",
       "  type: \"text/css\",\n",
       "  href: \"//cdnjs.cloudflare.com/ajax/libs/font-awesome/4.1.0/css/font-awesome.min.css\"\n",
       "}));\n",
       "$(\"head\").append($(\"<link/>\").attr({\n",
       "  rel:  \"stylesheet\",\n",
       "  type: \"text/css\",\n",
       "  href: \"https://static.turi.com/products/graphlab-create/2.1/canvas/css/canvas.css\"\n",
       "}));\n",
       "\n",
       "            (function(){\n",
       "\n",
       "                var e = null;\n",
       "                if (typeof element == 'undefined') {\n",
       "                    var scripts = document.getElementsByTagName('script');\n",
       "                    var thisScriptTag = scripts[scripts.length-1];\n",
       "                    var parentDiv = thisScriptTag.parentNode;\n",
       "                    e = document.createElement('div');\n",
       "                    parentDiv.appendChild(e);\n",
       "                } else {\n",
       "                    e = element[0];\n",
       "                }\n",
       "\n",
       "                if (typeof requirejs !== 'undefined') {\n",
       "                    // disable load timeout; ipython_app.js is large and can take a while to load.\n",
       "                    requirejs.config({waitSeconds: 0});\n",
       "                }\n",
       "\n",
       "                require(['https://static.turi.com/products/graphlab-create/2.1/canvas/js/ipython_app.js'], function(IPythonApp){\n",
       "                    var app = new IPythonApp();\n",
       "                    app.attachView('sframe','Plots', {\"selected_variable\": {\"name\": [\"sales\"], \"descriptives\": {\"rows\": 21613, \"columns\": 21}, \"view_component\": \"Plots\", \"view_file\": \"sframe\", \"view_params\": {\"y\": \"price\", \"x\": \"sqft_living\", \"columns\": [\"id\", \"date\", \"price\", \"bedrooms\", \"bathrooms\", \"sqft_living\", \"sqft_lot\", \"floors\", \"waterfront\", \"view\", \"condition\", \"grade\", \"sqft_above\", \"sqft_basement\", \"yr_built\", \"yr_renovated\", \"zipcode\", \"lat\", \"long\", \"sqft_living15\", \"sqft_lot15\"], \"view\": \"Scatter Plot\"}, \"view_components\": [\"Summary\", \"Table\", \"Bar Chart\", \"BoxWhisker Plot\", \"Line Chart\", \"Scatter Plot\", \"Heat Map\", \"Plots\"], \"type\": \"SFrame\", \"columns\": [{\"dtype\": \"str\", \"name\": \"id\"}, {\"dtype\": \"datetime\", \"name\": \"date\"}, {\"dtype\": \"int\", \"name\": \"price\"}, {\"dtype\": \"str\", \"name\": \"bedrooms\"}, {\"dtype\": \"str\", \"name\": \"bathrooms\"}, {\"dtype\": \"int\", \"name\": \"sqft_living\"}, {\"dtype\": \"int\", \"name\": \"sqft_lot\"}, {\"dtype\": \"str\", \"name\": \"floors\"}, {\"dtype\": \"int\", \"name\": \"waterfront\"}, {\"dtype\": \"int\", \"name\": \"view\"}, {\"dtype\": \"int\", \"name\": \"condition\"}, {\"dtype\": \"int\", \"name\": \"grade\"}, {\"dtype\": \"int\", \"name\": \"sqft_above\"}, {\"dtype\": \"int\", \"name\": \"sqft_basement\"}, {\"dtype\": \"int\", \"name\": \"yr_built\"}, {\"dtype\": \"int\", \"name\": \"yr_renovated\"}, {\"dtype\": \"str\", \"name\": \"zipcode\"}, {\"dtype\": \"float\", \"name\": \"lat\"}, {\"dtype\": \"float\", \"name\": \"long\"}, {\"dtype\": \"float\", \"name\": \"sqft_living15\"}, {\"dtype\": \"float\", \"name\": \"sqft_lot15\"}], \"column_identifiers\": [\"bathrooms\", \"sqft_living15\", \"sqft_above\", \"grade\", \"yr_built\", \"price\", \"bedrooms\", \"zipcode\", \"long\", \"id\", \"sqft_lot15\", \"sqft_living\", \"floors\", \"sqft_lot\", \"date\", \"waterfront\", \"sqft_basement\", \"yr_renovated\", \"lat\", \"condition\", \"view\"]}, \"complete\": 1, \"ipython\": true, \"progress\": 1.0, \"data\": [[1820, 268500], [2790, 700000], [770, 180000], [1630, 312900], [880, 208500], [2010, 510000], [1230, 340000], [1960, 289950], [1890, 375000], [1890, 323000], [3560, 662500], [1100, 416500], [1730, 335000], [1370, 400000], [2260, 635000], [1060, 570000], [1560, 724000], [1340, 300000], [1570, 325000], [2920, 713500], [2220, 374000], [3370, 559630], [1970, 410000], [1480, 475000], [1920, 380000], [1990, 776000], [3840, 875000], [4080, 899000], [3160, 1190000], [3500, 970000], [1780, 310000], [2010, 627800], [2330, 687500], [1130, 237000], [1660, 165000], [2680, 575000], [970, 165000], [1340, 345950], [1600, 205000], [1120, 380000], [1670, 204700], [2100, 485000], [2350, 400000], [1790, 414000], [1720, 525000], [2520, 540000], [2730, 559950], [2370, 328000], [2810, 535000], [2090, 491950], [1800, 335620], [2430, 762400], [1150, 450000], [1730, 700000], [3030, 1470000], [1410, 399900], [2580, 865000], [1340, 340000], [1420, 294000], [6390, 2466350], [1670, 533000], [2560, 1085000], [1150, 452950], [1700, 225000], [1920, 510000], [1310, 365000], [2170, 359800], [2690, 829000], [1470, 525000], [930, 351000], [1420, 400000], [1300, 337500], [710, 129888], [2540, 675000], [2280, 383000], [2060, 410000], [1270, 343000], [3190, 495500], [1390, 510000], [1280, 549900], [2350, 390000], [1470, 299900], [1910, 430000], [1000, 217000], [840, 124500], [1870, 554000], [2050, 398000], [1790, 475000], [2500, 990000], [3260, 552500], [1980, 243500], [4030, 912000], [1810, 325000], [2020, 385000], [2610, 335000], [1680, 308000], [2540, 487000], [3470, 875000], [3880, 506000], [1370, 252000], [2440, 483000], [2340, 438000], [2420, 279950], [1780, 500000], [1740, 645000], [1370, 203000], [1360, 415000], [2250, 440000], [3140, 680000], [2375, 712000], [1996, 285000], [2350, 460000], [4140, 950000], [3550, 450000], [1060, 476500], [2700, 775900], [3510, 1250000], [1060, 325000], [1570, 171800], [1880, 299500], [1220, 237200], [2260, 675000], [2050, 260000], [2010, 625000], [1920, 372000], [4570, 1580000], [1270, 235000], [1850, 295000], [2540, 374950], [1760, 554000], [2140, 571000], [1100, 428750], [1450, 465000], [3691, 800000], [1720, 540000], [1540, 480000], [1300, 137000], [1880, 449950], [2570, 626000], [2130, 515000], [2700, 665000], [1570, 342000], [1610, 205000], [2540, 775000], [2600, 625000], [910, 330000], [1730, 960000], [2880, 1100000], [3860, 470000], [1640, 517000], [1600, 480000], [1680, 334000], [1700, 545000], [2440, 672000], [2680, 590000], [2550, 1400000], [1830, 495000], [3230, 591975], [5270, 1795000], [1600, 845000], [1960, 415000], [1630, 725000], [1320, 327000], [1870, 575000], [840, 400000], [3000, 430000], [2070, 395000], [3470, 455000], [3840, 858450], [2050, 739000], [1980, 700000], [1220, 355000], [1320, 284000], [2270, 680000], [3340, 655000], [2300, 592000], [1200, 240000], [2230, 235000], [1950, 269950], [2750, 604700], [2470, 1205000], [3480, 1580000], [3850, 1060000], [1320, 455000], [920, 207000], [860, 390000], [3660, 1107461], [1840, 406500], [2320, 941000], [1100, 397000], [1830, 260000], [1180, 215000], [1440, 805500], [3180, 1130000], [1122, 265000], [2020, 633000], [1060, 420000], [1690, 460000], [1900, 327000], [1580, 551000], [1660, 490000], [3050, 760000], [5940, 1149000], [1300, 226500], [5540, 2575000], [1322, 215000], [2280, 565000], [3640, 925000], [2240, 480000], [1480, 260000], [690, 142500], [1690, 467000], [2540, 325000], [2120, 518500], [2400, 300000], [4480, 490000], [910, 533050], [2310, 588000], [2020, 315000], [4220, 633000], [1440, 390000], [1580, 299900], [2830, 539000], [920, 589000], [2070, 1350000], [3530, 995000], [1930, 279950], [980, 400000], [2780, 709000], [1450, 400000], [1090, 430000], [3010, 659950], [3695, 994900], [1720, 230000], [2360, 340000], [2000, 417000], [2220, 416000], [2520, 449888], [3010, 359950], [2460, 790000], [1920, 781000], [1800, 719000], [1410, 658500], [1250, 310000], [1980, 637000], [1600, 390000], [2330, 710000], [6200, 3300000], [2300, 400000], [2370, 348000], [1422, 245000], [1770, 241000], [2510, 1950000], [1780, 280000], [2790, 374950], [1640, 525000], [2060, 270000], [1430, 453000], [1870, 325000], [2550, 355000], [2380, 527000], [2330, 473975], [2100, 525000], [2270, 575000], [2140, 354450], [2320, 870000], [3600, 875000], [3176, 819000], [2670, 925000], [2100, 492000], [3510, 659950], [1580, 410000], [8020, 3300000], [950, 193000], [960, 365000], [2140, 409500], [1100, 233000], [1800, 379900], [1010, 185000], [1700, 410000], [3560, 1364000], [4700, 1242000], [2770, 750000], [3340, 485000], [2530, 618000], [1315, 347000], [2500, 467000], [1910, 395000], [2330, 420000], [1810, 299500], [2800, 440000], [1790, 402000], [970, 313300], [3080, 2160000], [1570, 195000], [1850, 355000], [1380, 265000], [2430, 452500], [1350, 270000], [1060, 169500], [3730, 1564350], [1690, 356200], [2690, 700000], [1210, 635000], [1610, 288000], [1740, 335000], [3160, 452100], [970, 325000], [1769, 495000], [1760, 647500], [1730, 550000], [1910, 250000], [2550, 550000], [1550, 645000], [1770, 420000], [1540, 240000], [2590, 487000], [980, 452000], [2800, 459950], [2240, 260000], [2690, 439000], [2020, 355000], [1500, 337900], [1560, 273000], [1820, 270000], [2940, 530000], [1730, 329780], [1140, 230000], [1940, 315000], [4590, 1710000], [970, 560000], [4190, 910000], [3732, 1225000], [1480, 398000], [2000, 815000], [1720, 248500], [1950, 525126], [2000, 334000], [1992, 429592], [1340, 297000], [1840, 390000], [1810, 495000], [1500, 736000], [2160, 1190000], [2880, 525000], [1250, 330000], [2483, 331000], [3530, 1550000], [3650, 1518634], [1200, 279500], [850, 170000], [1600, 257700], [1010, 270000], [960, 550000], [1280, 425000], [2200, 375000], [2876, 525000], [1580, 253000], [1960, 500000], [1930, 339500], [4340, 1187500], [1876, 613500], [2270, 340000], [2480, 408506], [1400, 279900], [1730, 450000], [2370, 369000], [1240, 359950], [1930, 295000], [1910, 615000], [740, 299500], [1390, 425000], [3340, 1150000], [2320, 470000], [4560, 1215000], [2300, 610000], [2390, 799000], [1580, 690000], [4860, 2950000], [1230, 575000], [1820, 557500], [2390, 330000], [2660, 423000], [820, 370000], [4340, 2945000], [1670, 612125], [2980, 950000], [1580, 325000], [2010, 570000], [1390, 199000], [1530, 439000], [2330, 689000], [1190, 229000], [3570, 895000], [2410, 480000], [1750, 575000], [2140, 322500], [3120, 375000], [1560, 382500], [2070, 662500], [3440, 1950000], [1280, 520000], [2200, 480000], [1750, 437000], [1450, 175409], [1200, 412000], [1530, 360000], [3030, 682000], [1720, 295700], [3220, 2375000], [1840, 279000], [960, 237000], [2840, 1145000], [4230, 935000], [2400, 510000], [2740, 541125], [1810, 545000], [1660, 608000], [810, 170000], [2500, 319500], [1520, 366000], [2190, 665000], [3786, 1379900], [1350, 585000], [1250, 170000], [3060, 826000], [1160, 137900], [1140, 549000], [3410, 1575000], [2095, 292500], [1480, 275000], [1540, 402000], [2030, 621000], [2330, 549000], [1090, 463500], [2330, 612000], [1740, 560000], [2870, 890000], [1110, 550000], [2470, 1234568], [810, 510000], [940, 180000], [1800, 539000], [3410, 2400000], [3120, 799000], [2350, 805000], [890, 153500], [2710, 623000], [930, 250000], [2430, 402000], [2240, 276000], [1830, 275000], [3220, 760000], [2050, 442000], [1150, 307000], [2210, 1100000], [2260, 496500], [1370, 255500], [2600, 722500], [1750, 650100], [2950, 992000], [2370, 411000], [2220, 480000], [1250, 468000], [2300, 525000], [1650, 550000], [1240, 355000], [2310, 494000], [1150, 307000], [1020, 310000], [2180, 235000], [1540, 543000], [2970, 820000], [1890, 311850], [3090, 615000], [1830, 379500], [1230, 220000], [3370, 1600000], [1560, 901000], [1770, 401000], [1520, 320000], [2270, 656000], [1860, 510000], [2500, 950000], [1340, 281000], [2220, 419950], [4860, 1067000], [2250, 950000], [2410, 720000], [2240, 238000], [1030, 335000], [2450, 559950], [1520, 210000], [1400, 218500], [1090, 406000], [1100, 502501], [2710, 656500], [940, 370000], [2630, 990000], [1070, 500000], [2050, 750000], [1160, 315000], [3370, 600000], [1370, 219000], [1090, 440000], [770, 407500], [1820, 499950], [3160, 574950], [3790, 1600000], [4030, 1485000], [2490, 572500], [1990, 335000], [1020, 230000], [3140, 990000], [1660, 926300], [3740, 1080000], [3510, 695000], [1200, 222000], [2700, 314900], [3180, 890000], [1430, 394900], [2470, 736000], [2150, 468000], [1540, 530100], [2220, 532500], [2750, 812500], [3000, 585000], [2890, 1072500], [1730, 563000], [2850, 775000], [1090, 690000], [2470, 597000], [1460, 591000], [2430, 321000], [1410, 700000], [730, 217000], [1560, 239950], [2130, 546500], [8670, 2888000], [1020, 293000], [2870, 480000], [2250, 468000], [1747, 267500], [1140, 305000], [1140, 365500], [1830, 275000], [690, 260000], [1800, 515000], [1010, 200000], [1060, 140000], [2130, 880000], [4380, 1450000], [4350, 2065000], [1400, 460000], [1860, 250000], [3080, 1400000], [2220, 1425000], [1400, 238000], [2190, 699900], [1770, 436000], [2641, 393000], [2000, 440000], [2300, 600000], [1370, 355000], [2380, 495000], [2678, 546200], [1350, 335000], [1240, 401000], [1390, 261000], [1880, 380000], [1310, 325000], [1380, 322000], [2560, 442000], [1340, 383000], [2330, 490000], [2360, 957500], [1805, 266000], [1100, 240000], [1860, 472000], [4750, 770000], [5020, 1500000], [2190, 920000], [1900, 512500], [2120, 316000], [1400, 367000], [990, 222500], [1300, 250000], [1964, 342000], [2110, 370000], [7270, 2238888], [1290, 460000], [2530, 429000], [1790, 472500], [2160, 750000], [2380, 361000], [2400, 375000], [3000, 666000], [940, 185900], [1880, 272000], [1870, 350000], [1200, 342000], [3520, 905000], [1370, 565000], [1330, 325000], [3110, 925000], [2020, 459000], [1880, 550000], [2520, 875000], [3560, 1070000], [2350, 800000], [2830, 1240000], [2820, 749000], [2130, 762000], [3070, 880000], [2430, 410000], [2360, 615000], [1490, 525000], [1690, 640000], [2010, 245000], [1620, 425000], [1790, 425000], [3753, 363000], [1984, 292000], [2070, 300000], [1740, 180000], [2270, 560000], [2540, 359950], [2110, 743000], [1220, 380000], [2092, 390000], [1810, 300000], [1220, 457000], [1960, 759000], [3040, 799950], [3560, 1750000], [1070, 415000], [2020, 356000], [1230, 375000], [3190, 587000], [3080, 490000], [1160, 417500], [1870, 615000], [1020, 152275], [1810, 290000], [1430, 230000], [2920, 1051000], [2070, 795000], [2530, 459000], [3920, 3100000], [1090, 577000], [1160, 315000], [3870, 1399950], [1390, 400000], [2010, 430000], [1600, 383900], [1230, 184900], [3270, 797500], [1010, 230000], [2180, 621138], [1290, 310000], [1420, 535000], [1150, 515000], [2700, 426500], [1780, 472000], [1975, 311000], [1700, 148900], [1550, 430000], [2320, 299000], [1950, 290000], [2120, 425000], [3580, 600000], [2780, 995000], [1400, 358500], [2060, 326989], [1460, 580000], [2320, 345000], [1010, 280000], [1140, 540000], [2280, 356000], [2200, 559900], [2620, 922000], [1620, 577000], [3080, 1125000], [1850, 645000], [1730, 297262], [4040, 1250000], [2350, 754000], [1070, 335000], [1860, 380000], [1850, 287200], [2200, 322000], [4570, 1484900], [1390, 270000], [2650, 725000], [1790, 312000], [1140, 460000], [2830, 700000], [840, 220000], [3400, 799000], [1300, 369000], [2240, 676000], [2420, 1100000], [2220, 456000], [2920, 1400000], [1860, 387500], [1960, 680200], [1690, 478000], [2900, 485000], [1490, 310000], [1950, 565000], [2007, 305950], [2700, 565000], [2250, 559000], [2570, 762450], [2010, 740000], [2460, 900000], [3900, 1200000], [2660, 452000], [2540, 696500], [2770, 355000], [1930, 273000], [2310, 525000], [2240, 497000], [1560, 592000], [1220, 575000], [1320, 387500], [2000, 549000], [1600, 435000], [1480, 479000], [2370, 300523], [1970, 501000], [1280, 280000], [1470, 381000], [2320, 666570], [1470, 449950], [2110, 385000], [1840, 429000], [1570, 580000], [3400, 1300000], [1680, 625000], [2230, 740000], [2740, 1225000], [1680, 480000], [2910, 589000], [3090, 938000], [2600, 452000], [2520, 535000], [1420, 340000], [1430, 517500], [1340, 425000], [2490, 616950], [1940, 432500], [1350, 613000], [3050, 1475000], [2210, 799000], [1320, 660000], [2074, 515100], [2310, 520000], [5230, 1350000], [2470, 735000], [1210, 239000], [1210, 215000], [5545, 937500], [1830, 638000], [1280, 184500], [2440, 548000], [1400, 474800], [1950, 510000], [1630, 415000], [2370, 1130000], [1690, 464000], [800, 375000], [2160, 798750], [1490, 320000], [1540, 475000], [2000, 420000], [1730, 379260], [1640, 303100], [2040, 506000], [2830, 779000], [1610, 545000], [780, 315000], [2840, 945000], [940, 223000], [1910, 528000], [1260, 204555], [1840, 185000], [2200, 410000], [1300, 198000], [2010, 440000], [1420, 569950], [1550, 685000], [1510, 479200], [2110, 305000], [2660, 332100], [2640, 910000], [3810, 966000], [1750, 380000], [1400, 299000], [1360, 239000], [1580, 536000], [2240, 466000], [1670, 235000], [1460, 204000], [2160, 585000], [2430, 465425], [1280, 304000], [1560, 310000], [1370, 388000], [2340, 640000], [2200, 315000], [1180, 311000], [3180, 510000], [1900, 541500], [1860, 407185], [2320, 610000], [2100, 346000], [2570, 580000], [2050, 495000], [1430, 246500], [1400, 267500], [1330, 236000], [1070, 219950], [2540, 799990], [1170, 104950], [3080, 750000], [2390, 355000], [1270, 379950], [3560, 616950], [3280, 594950], [2320, 340000], [1780, 325000], [2150, 810000], [2740, 675000], [1220, 286308], [1440, 410000], [1350, 430000], [1910, 650000], [740, 114975], [3200, 1272000], [2840, 440000], [1610, 245000], [1620, 428750], [3830, 955990], [1530, 315000], [2510, 557500], [1460, 538000], [2520, 303697], [1210, 326000], [3130, 1265000], [2190, 286000], [3590, 1205000], [1290, 256000], [900, 252500], [2220, 405000], [4150, 3065000], [1040, 190000], [3030, 740000], [1580, 233500], [1460, 189000], [1790, 546000], [1510, 319950], [1560, 270000], [1430, 520000], [2260, 479950], [2960, 835000], [1470, 487000], [1960, 310000], [1830, 410000], [2180, 318000], [3370, 830000], [2090, 600000], [1370, 406000], [6330, 2385000], [3060, 860000], [2890, 775000], [2230, 415000], [5530, 1350000], [750, 435000], [1870, 299990], [1290, 200000], [1800, 607500], [800, 350000], [1430, 551100], [2230, 490000], [3240, 600000], [1150, 325000], [1910, 650000], [2220, 800000], [2240, 390000], [730, 114000], [2230, 652450], [2020, 532000], [1150, 445000], [2340, 242000], [1430, 535000], [1750, 385000], [1500, 352500], [3760, 740000], [2370, 490000], [1210, 285000], [1780, 325000], [1740, 405000], [3970, 2300000], [2360, 730000], [1390, 560000], [2420, 411500], [1350, 410000], [1250, 330000], [1940, 306888], [1867, 378950], [1500, 262000], [1540, 216650], [1640, 516000], [3280, 2575000], [4460, 1550000], [1068, 239950], [2440, 954500], [1000, 270000], [3370, 1135000], [1730, 317500], [2400, 495000], [1530, 320000], [3310, 680000], [2720, 599950], [3950, 1925000], [2610, 608000], [1520, 672600], [3130, 1400000], [2490, 370000], [3490, 1311000], [2290, 949880], [1310, 234500], [1870, 262000], [670, 202000], [1780, 455000], [1640, 750000], [1630, 327000], [1420, 500000], [1580, 350000], [2840, 713000], [4590, 960000], [1140, 255000], [3110, 585000], [1520, 450000], [1430, 375000], [1930, 670000], [1780, 350000], [700, 415000], [1360, 335000], [1410, 334200], [920, 280300], [2300, 612000], [1380, 253750], [1080, 350000], [2190, 833000], [1510, 270000], [1590, 411000], [4386, 545000], [2140, 378000], [2610, 650000], [1710, 295000], [970, 425000], [6550, 1500000], [2320, 600000], [2880, 450000], [2060, 450000], [2440, 610000], [2900, 670000], [4570, 1098000], [2910, 998000], [2760, 834538], [1620, 549500], [1650, 599000], [1800, 579000], [1120, 380000], [2730, 733000], [1802, 320000], [1390, 345000], [1280, 195000], [1620, 395000], [2360, 499900], [1070, 195000], [1150, 354500], [2410, 600000], [2750, 510000], [3450, 950000], [2550, 537500], [2870, 710000], [4410, 1437500], [2290, 470000], [2620, 597500], [1890, 525000], [1950, 497950], [2400, 745000], [1930, 434500], [1490, 898000], [3340, 690000], [1560, 368000], [2700, 1060000]], \"columns\": [{\"dtype\": \"str\", \"name\": \"id\"}, {\"dtype\": \"datetime\", \"name\": \"date\"}, {\"dtype\": \"int\", \"name\": \"price\"}, {\"dtype\": \"str\", \"name\": \"bedrooms\"}, {\"dtype\": \"str\", \"name\": \"bathrooms\"}, {\"dtype\": \"int\", \"name\": \"sqft_living\"}, {\"dtype\": \"int\", \"name\": \"sqft_lot\"}, {\"dtype\": \"str\", \"name\": \"floors\"}, {\"dtype\": \"int\", \"name\": \"waterfront\"}, {\"dtype\": \"int\", \"name\": \"view\"}, {\"dtype\": \"int\", \"name\": \"condition\"}, {\"dtype\": \"int\", \"name\": \"grade\"}, {\"dtype\": \"int\", \"name\": \"sqft_above\"}, {\"dtype\": \"int\", \"name\": \"sqft_basement\"}, {\"dtype\": \"int\", \"name\": \"yr_built\"}, {\"dtype\": \"int\", \"name\": \"yr_renovated\"}, {\"dtype\": \"str\", \"name\": \"zipcode\"}, {\"dtype\": \"float\", \"name\": \"lat\"}, {\"dtype\": \"float\", \"name\": \"long\"}, {\"dtype\": \"float\", \"name\": \"sqft_living15\"}, {\"dtype\": \"float\", \"name\": \"sqft_lot15\"}]}, e);\n",
       "                });\n",
       "            })();\n",
       "        "
      ]
     },
     "metadata": {},
     "output_type": "display_data"
    }
   ],
   "source": [
    "sales.show(view='Scatter Plot', x='sqft_living', y='price')"
   ]
  },
  {
   "cell_type": "code",
   "execution_count": 7,
   "metadata": {},
   "outputs": [],
   "source": [
    "training_data,test_data = sales.random_split(0.8,seed=0)"
   ]
  },
  {
   "cell_type": "code",
   "execution_count": 8,
   "metadata": {},
   "outputs": [
    {
     "name": "stdout",
     "output_type": "stream",
     "text": [
      "PROGRESS: Creating a validation set from 5 percent of training data. This may take a while.\n",
      "          You can set ``validation_set=None`` to disable validation tracking.\n",
      "\n"
     ]
    },
    {
     "data": {
      "text/html": [
       "<pre>Linear regression:</pre>"
      ],
      "text/plain": [
       "Linear regression:"
      ]
     },
     "metadata": {},
     "output_type": "display_data"
    },
    {
     "data": {
      "text/html": [
       "<pre>--------------------------------------------------------</pre>"
      ],
      "text/plain": [
       "--------------------------------------------------------"
      ]
     },
     "metadata": {},
     "output_type": "display_data"
    },
    {
     "data": {
      "text/html": [
       "<pre>Number of examples          : 16471</pre>"
      ],
      "text/plain": [
       "Number of examples          : 16471"
      ]
     },
     "metadata": {},
     "output_type": "display_data"
    },
    {
     "data": {
      "text/html": [
       "<pre>Number of features          : 1</pre>"
      ],
      "text/plain": [
       "Number of features          : 1"
      ]
     },
     "metadata": {},
     "output_type": "display_data"
    },
    {
     "data": {
      "text/html": [
       "<pre>Number of unpacked features : 1</pre>"
      ],
      "text/plain": [
       "Number of unpacked features : 1"
      ]
     },
     "metadata": {},
     "output_type": "display_data"
    },
    {
     "data": {
      "text/html": [
       "<pre>Number of coefficients    : 2</pre>"
      ],
      "text/plain": [
       "Number of coefficients    : 2"
      ]
     },
     "metadata": {},
     "output_type": "display_data"
    },
    {
     "data": {
      "text/html": [
       "<pre>Starting Newton Method</pre>"
      ],
      "text/plain": [
       "Starting Newton Method"
      ]
     },
     "metadata": {},
     "output_type": "display_data"
    },
    {
     "data": {
      "text/html": [
       "<pre>--------------------------------------------------------</pre>"
      ],
      "text/plain": [
       "--------------------------------------------------------"
      ]
     },
     "metadata": {},
     "output_type": "display_data"
    },
    {
     "data": {
      "text/html": [
       "<pre>+-----------+----------+--------------+--------------------+----------------------+---------------+-----------------+</pre>"
      ],
      "text/plain": [
       "+-----------+----------+--------------+--------------------+----------------------+---------------+-----------------+"
      ]
     },
     "metadata": {},
     "output_type": "display_data"
    },
    {
     "data": {
      "text/html": [
       "<pre>| Iteration | Passes   | Elapsed Time | Training-max_error | Validation-max_error | Training-rmse | Validation-rmse |</pre>"
      ],
      "text/plain": [
       "| Iteration | Passes   | Elapsed Time | Training-max_error | Validation-max_error | Training-rmse | Validation-rmse |"
      ]
     },
     "metadata": {},
     "output_type": "display_data"
    },
    {
     "data": {
      "text/html": [
       "<pre>+-----------+----------+--------------+--------------------+----------------------+---------------+-----------------+</pre>"
      ],
      "text/plain": [
       "+-----------+----------+--------------+--------------------+----------------------+---------------+-----------------+"
      ]
     },
     "metadata": {},
     "output_type": "display_data"
    },
    {
     "data": {
      "text/html": [
       "<pre>| 1         | 2        | 1.018915     | 4332547.190519     | 1427800.848453       | 264276.880043 | 237721.770702   |</pre>"
      ],
      "text/plain": [
       "| 1         | 2        | 1.018915     | 4332547.190519     | 1427800.848453       | 264276.880043 | 237721.770702   |"
      ]
     },
     "metadata": {},
     "output_type": "display_data"
    },
    {
     "data": {
      "text/html": [
       "<pre>+-----------+----------+--------------+--------------------+----------------------+---------------+-----------------+</pre>"
      ],
      "text/plain": [
       "+-----------+----------+--------------+--------------------+----------------------+---------------+-----------------+"
      ]
     },
     "metadata": {},
     "output_type": "display_data"
    },
    {
     "data": {
      "text/html": [
       "<pre>SUCCESS: Optimal solution found.</pre>"
      ],
      "text/plain": [
       "SUCCESS: Optimal solution found."
      ]
     },
     "metadata": {},
     "output_type": "display_data"
    },
    {
     "data": {
      "text/html": [
       "<pre></pre>"
      ],
      "text/plain": []
     },
     "metadata": {},
     "output_type": "display_data"
    }
   ],
   "source": [
    "sqft_model = graphlab.linear_regression.create(training_data,target='price',features=['sqft_living'])"
   ]
  },
  {
   "cell_type": "code",
   "execution_count": 2,
   "metadata": {},
   "outputs": [],
   "source": [
    "import matplotlib.pyplot as plt\n",
    "%matplotlib inline"
   ]
  },
  {
   "cell_type": "code",
   "execution_count": 9,
   "metadata": {},
   "outputs": [
    {
     "data": {
      "text/plain": [
       "[<matplotlib.lines.Line2D at 0x19094b70>,\n",
       " <matplotlib.lines.Line2D at 0x19094c50>]"
      ]
     },
     "execution_count": 9,
     "metadata": {},
     "output_type": "execute_result"
    },
    {
     "data": {
      "image/png": "[encoded data removed]",
      "text/plain": [
       "<Figure size 432x288 with 1 Axes>"
      ]
     },
     "metadata": {
      "needs_background": "light"
     },
     "output_type": "display_data"
    }
   ],
   "source": [
    "plt.plot(test_data['sqft_living'],test_data['price'],'.',\n",
    "         test_data['sqft_living'],sqft_model.predict(test_data),'-')"
   ]
  },
  {
   "cell_type": "code",
   "execution_count": 10,
   "metadata": {},
   "outputs": [],
   "source": [
    "##select the list of input features to be used in the model\n",
    "my_features = ['bedrooms','bathrooms','sqft_living','sqft_lot','floors','zipcode']"
   ]
  },
  {
   "cell_type": "code",
   "execution_count": 12,
   "metadata": {},
   "outputs": [
    {
     "name": "stdout",
     "output_type": "stream",
     "text": [
      "Canvas is accessible via web browser at the URL: http://localhost:55725/index.html\n",
      "Opening Canvas in default web browser.\n"
     ]
    }
   ],
   "source": [
    "sales[my_features].show()"
   ]
  },
  {
   "cell_type": "code",
   "execution_count": 13,
   "metadata": {},
   "outputs": [
    {
     "name": "stdout",
     "output_type": "stream",
     "text": [
      "Canvas is accessible via web browser at the URL: http://localhost:55725/index.html\n",
      "Opening Canvas in default web browser.\n"
     ]
    }
   ],
   "source": [
    "sales.show(view='BoxWhisker Plot', x='zipcode', y='price')"
   ]
  },
  {
   "cell_type": "code",
   "execution_count": 14,
   "metadata": {},
   "outputs": [
    {
     "name": "stdout",
     "output_type": "stream",
     "text": [
      "PROGRESS: Creating a validation set from 5 percent of training data. This may take a while.\n",
      "          You can set ``validation_set=None`` to disable validation tracking.\n",
      "\n"
     ]
    },
    {
     "data": {
      "text/html": [
       "<pre>Linear regression:</pre>"
      ],
      "text/plain": [
       "Linear regression:"
      ]
     },
     "metadata": {},
     "output_type": "display_data"
    },
    {
     "data": {
      "text/html": [
       "<pre>--------------------------------------------------------</pre>"
      ],
      "text/plain": [
       "--------------------------------------------------------"
      ]
     },
     "metadata": {},
     "output_type": "display_data"
    },
    {
     "data": {
      "text/html": [
       "<pre>Number of examples          : 16505</pre>"
      ],
      "text/plain": [
       "Number of examples          : 16505"
      ]
     },
     "metadata": {},
     "output_type": "display_data"
    },
    {
     "data": {
      "text/html": [
       "<pre>Number of features          : 6</pre>"
      ],
      "text/plain": [
       "Number of features          : 6"
      ]
     },
     "metadata": {},
     "output_type": "display_data"
    },
    {
     "data": {
      "text/html": [
       "<pre>Number of unpacked features : 6</pre>"
      ],
      "text/plain": [
       "Number of unpacked features : 6"
      ]
     },
     "metadata": {},
     "output_type": "display_data"
    },
    {
     "data": {
      "text/html": [
       "<pre>Number of coefficients    : 115</pre>"
      ],
      "text/plain": [
       "Number of coefficients    : 115"
      ]
     },
     "metadata": {},
     "output_type": "display_data"
    },
    {
     "data": {
      "text/html": [
       "<pre>Starting Newton Method</pre>"
      ],
      "text/plain": [
       "Starting Newton Method"
      ]
     },
     "metadata": {},
     "output_type": "display_data"
    },
    {
     "data": {
      "text/html": [
       "<pre>--------------------------------------------------------</pre>"
      ],
      "text/plain": [
       "--------------------------------------------------------"
      ]
     },
     "metadata": {},
     "output_type": "display_data"
    },
    {
     "data": {
      "text/html": [
       "<pre>+-----------+----------+--------------+--------------------+----------------------+---------------+-----------------+</pre>"
      ],
      "text/plain": [
       "+-----------+----------+--------------+--------------------+----------------------+---------------+-----------------+"
      ]
     },
     "metadata": {},
     "output_type": "display_data"
    },
    {
     "data": {
      "text/html": [
       "<pre>| Iteration | Passes   | Elapsed Time | Training-max_error | Validation-max_error | Training-rmse | Validation-rmse |</pre>"
      ],
      "text/plain": [
       "| Iteration | Passes   | Elapsed Time | Training-max_error | Validation-max_error | Training-rmse | Validation-rmse |"
      ]
     },
     "metadata": {},
     "output_type": "display_data"
    },
    {
     "data": {
      "text/html": [
       "<pre>+-----------+----------+--------------+--------------------+----------------------+---------------+-----------------+</pre>"
      ],
      "text/plain": [
       "+-----------+----------+--------------+--------------------+----------------------+---------------+-----------------+"
      ]
     },
     "metadata": {},
     "output_type": "display_data"
    },
    {
     "data": {
      "text/html": [
       "<pre>| 1         | 2        | 0.072935     | 3762183.260502     | 1318744.406115       | 183020.479376 | 160018.869437   |</pre>"
      ],
      "text/plain": [
       "| 1         | 2        | 0.072935     | 3762183.260502     | 1318744.406115       | 183020.479376 | 160018.869437   |"
      ]
     },
     "metadata": {},
     "output_type": "display_data"
    },
    {
     "data": {
      "text/html": [
       "<pre>+-----------+----------+--------------+--------------------+----------------------+---------------+-----------------+</pre>"
      ],
      "text/plain": [
       "+-----------+----------+--------------+--------------------+----------------------+---------------+-----------------+"
      ]
     },
     "metadata": {},
     "output_type": "display_data"
    },
    {
     "data": {
      "text/html": [
       "<pre>SUCCESS: Optimal solution found.</pre>"
      ],
      "text/plain": [
       "SUCCESS: Optimal solution found."
      ]
     },
     "metadata": {},
     "output_type": "display_data"
    },
    {
     "data": {
      "text/html": [
       "<pre></pre>"
      ],
      "text/plain": []
     },
     "metadata": {},
     "output_type": "display_data"
    }
   ],
   "source": [
    "my_features_model = graphlab.linear_regression.create(training_data,target='price',features=my_features)"
   ]
  },
  {
   "cell_type": "code",
   "execution_count": 15,
   "metadata": {},
   "outputs": [
    {
     "name": "stdout",
     "output_type": "stream",
     "text": [
      "{'max_error': 4130091.698475963, 'rmse': 255221.72716714095}\n",
      "{'max_error': 3476206.344198201, 'rmse': 179651.51495400642}\n"
     ]
    }
   ],
   "source": [
    "print sqft_model.evaluate(test_data)\n",
    "print my_features_model.evaluate(test_data)"
   ]
  },
  {
   "cell_type": "code",
   "execution_count": 18,
   "metadata": {},
   "outputs": [],
   "source": [
    "house1 = sales[sales['id']=='5309101200']"
   ]
  },
  {
   "cell_type": "code",
   "execution_count": 19,
   "metadata": {},
   "outputs": [
    {
     "data": {
      "text/html": [
       "<div style=\"max-height:1000px;max-width:1500px;overflow:auto;\"><table frame=\"box\" rules=\"cols\">\n",
       "    <tr>\n",
       "        <th style=\"padding-left: 1em; padding-right: 1em; text-align: center\">id</th>\n",
       "        <th style=\"padding-left: 1em; padding-right: 1em; text-align: center\">date</th>\n",
       "        <th style=\"padding-left: 1em; padding-right: 1em; text-align: center\">price</th>\n",
       "        <th style=\"padding-left: 1em; padding-right: 1em; text-align: center\">bedrooms</th>\n",
       "        <th style=\"padding-left: 1em; padding-right: 1em; text-align: center\">bathrooms</th>\n",
       "        <th style=\"padding-left: 1em; padding-right: 1em; text-align: center\">sqft_living</th>\n",
       "        <th style=\"padding-left: 1em; padding-right: 1em; text-align: center\">sqft_lot</th>\n",
       "        <th style=\"padding-left: 1em; padding-right: 1em; text-align: center\">floors</th>\n",
       "        <th style=\"padding-left: 1em; padding-right: 1em; text-align: center\">waterfront</th>\n",
       "    </tr>\n",
       "    <tr>\n",
       "        <td style=\"padding-left: 1em; padding-right: 1em; text-align: center; vertical-align: top\">5309101200</td>\n",
       "        <td style=\"padding-left: 1em; padding-right: 1em; text-align: center; vertical-align: top\">2014-06-05 00:00:00+00:00</td>\n",
       "        <td style=\"padding-left: 1em; padding-right: 1em; text-align: center; vertical-align: top\">620000</td>\n",
       "        <td style=\"padding-left: 1em; padding-right: 1em; text-align: center; vertical-align: top\">4</td>\n",
       "        <td style=\"padding-left: 1em; padding-right: 1em; text-align: center; vertical-align: top\">2.25</td>\n",
       "        <td style=\"padding-left: 1em; padding-right: 1em; text-align: center; vertical-align: top\">2400</td>\n",
       "        <td style=\"padding-left: 1em; padding-right: 1em; text-align: center; vertical-align: top\">5350</td>\n",
       "        <td style=\"padding-left: 1em; padding-right: 1em; text-align: center; vertical-align: top\">1.5</td>\n",
       "        <td style=\"padding-left: 1em; padding-right: 1em; text-align: center; vertical-align: top\">0</td>\n",
       "    </tr>\n",
       "</table>\n",
       "<table frame=\"box\" rules=\"cols\">\n",
       "    <tr>\n",
       "        <th style=\"padding-left: 1em; padding-right: 1em; text-align: center\">view</th>\n",
       "        <th style=\"padding-left: 1em; padding-right: 1em; text-align: center\">condition</th>\n",
       "        <th style=\"padding-left: 1em; padding-right: 1em; text-align: center\">grade</th>\n",
       "        <th style=\"padding-left: 1em; padding-right: 1em; text-align: center\">sqft_above</th>\n",
       "        <th style=\"padding-left: 1em; padding-right: 1em; text-align: center\">sqft_basement</th>\n",
       "        <th style=\"padding-left: 1em; padding-right: 1em; text-align: center\">yr_built</th>\n",
       "        <th style=\"padding-left: 1em; padding-right: 1em; text-align: center\">yr_renovated</th>\n",
       "        <th style=\"padding-left: 1em; padding-right: 1em; text-align: center\">zipcode</th>\n",
       "        <th style=\"padding-left: 1em; padding-right: 1em; text-align: center\">lat</th>\n",
       "    </tr>\n",
       "    <tr>\n",
       "        <td style=\"padding-left: 1em; padding-right: 1em; text-align: center; vertical-align: top\">0</td>\n",
       "        <td style=\"padding-left: 1em; padding-right: 1em; text-align: center; vertical-align: top\">4</td>\n",
       "        <td style=\"padding-left: 1em; padding-right: 1em; text-align: center; vertical-align: top\">7</td>\n",
       "        <td style=\"padding-left: 1em; padding-right: 1em; text-align: center; vertical-align: top\">1460</td>\n",
       "        <td style=\"padding-left: 1em; padding-right: 1em; text-align: center; vertical-align: top\">940</td>\n",
       "        <td style=\"padding-left: 1em; padding-right: 1em; text-align: center; vertical-align: top\">1929</td>\n",
       "        <td style=\"padding-left: 1em; padding-right: 1em; text-align: center; vertical-align: top\">0</td>\n",
       "        <td style=\"padding-left: 1em; padding-right: 1em; text-align: center; vertical-align: top\">98117</td>\n",
       "        <td style=\"padding-left: 1em; padding-right: 1em; text-align: center; vertical-align: top\">47.67632376</td>\n",
       "    </tr>\n",
       "</table>\n",
       "<table frame=\"box\" rules=\"cols\">\n",
       "    <tr>\n",
       "        <th style=\"padding-left: 1em; padding-right: 1em; text-align: center\">long</th>\n",
       "        <th style=\"padding-left: 1em; padding-right: 1em; text-align: center\">sqft_living15</th>\n",
       "        <th style=\"padding-left: 1em; padding-right: 1em; text-align: center\">sqft_lot15</th>\n",
       "    </tr>\n",
       "    <tr>\n",
       "        <td style=\"padding-left: 1em; padding-right: 1em; text-align: center; vertical-align: top\">-122.37010126</td>\n",
       "        <td style=\"padding-left: 1em; padding-right: 1em; text-align: center; vertical-align: top\">1250.0</td>\n",
       "        <td style=\"padding-left: 1em; padding-right: 1em; text-align: center; vertical-align: top\">4880.0</td>\n",
       "    </tr>\n",
       "</table>\n",
       "[? rows x 21 columns]<br/>Note: Only the head of the SFrame is printed. This SFrame is lazily evaluated.<br/>You can use sf.materialize() to force materialization.\n",
       "</div>"
      ],
      "text/plain": [
       "Columns:\n",
       "\tid\tstr\n",
       "\tdate\tdatetime\n",
       "\tprice\tint\n",
       "\tbedrooms\tstr\n",
       "\tbathrooms\tstr\n",
       "\tsqft_living\tint\n",
       "\tsqft_lot\tint\n",
       "\tfloors\tstr\n",
       "\twaterfront\tint\n",
       "\tview\tint\n",
       "\tcondition\tint\n",
       "\tgrade\tint\n",
       "\tsqft_above\tint\n",
       "\tsqft_basement\tint\n",
       "\tyr_built\tint\n",
       "\tyr_renovated\tint\n",
       "\tzipcode\tstr\n",
       "\tlat\tfloat\n",
       "\tlong\tfloat\n",
       "\tsqft_living15\tfloat\n",
       "\tsqft_lot15\tfloat\n",
       "\n",
       "Rows: Unknown\n",
       "\n",
       "Data:\n",
       "+------------+---------------------------+--------+----------+-----------+-------------+\n",
       "|     id     |            date           | price  | bedrooms | bathrooms | sqft_living |\n",
       "+------------+---------------------------+--------+----------+-----------+-------------+\n",
       "| 5309101200 | 2014-06-05 00:00:00+00:00 | 620000 |    4     |    2.25   |     2400    |\n",
       "+------------+---------------------------+--------+----------+-----------+-------------+\n",
       "+----------+--------+------------+------+-----------+-------+------------+---------------+\n",
       "| sqft_lot | floors | waterfront | view | condition | grade | sqft_above | sqft_basement |\n",
       "+----------+--------+------------+------+-----------+-------+------------+---------------+\n",
       "|   5350   |  1.5   |     0      |  0   |     4     |   7   |    1460    |      940      |\n",
       "+----------+--------+------------+------+-----------+-------+------------+---------------+\n",
       "+----------+--------------+---------+-------------+---------------+---------------+-----+\n",
       "| yr_built | yr_renovated | zipcode |     lat     |      long     | sqft_living15 | ... |\n",
       "+----------+--------------+---------+-------------+---------------+---------------+-----+\n",
       "|   1929   |      0       |  98117  | 47.67632376 | -122.37010126 |     1250.0    | ... |\n",
       "+----------+--------------+---------+-------------+---------------+---------------+-----+\n",
       "[? rows x 21 columns]\n",
       "Note: Only the head of the SFrame is printed. This SFrame is lazily evaluated.\n",
       "You can use sf.materialize() to force materialization."
      ]
     },
     "execution_count": 19,
     "metadata": {},
     "output_type": "execute_result"
    }
   ],
   "source": [
    "house1"
   ]
  },
  {
   "cell_type": "code",
   "execution_count": 20,
   "metadata": {},
   "outputs": [
    {
     "name": "stdout",
     "output_type": "stream",
     "text": [
      "[630853.5030976955]\n"
     ]
    }
   ],
   "source": [
    "print sqft_model.predict(house1)"
   ]
  },
  {
   "cell_type": "code",
   "execution_count": 21,
   "metadata": {},
   "outputs": [
    {
     "name": "stdout",
     "output_type": "stream",
     "text": [
      "[720493.9203975087]\n"
     ]
    }
   ],
   "source": [
    "print my_features_model.predict(house1)"
   ]
  },
  {
   "cell_type": "code",
   "execution_count": null,
   "metadata": {},
   "outputs": [],
   "source": []
  }
 ],
 "metadata": {
  "kernelspec": {
   "display_name": "Python 3",
   "language": "python",
   "name": "python3"
  },
  "language_info": {
   "codemirror_mode": {
    "name": "ipython",
    "version": 3
   },
   "file_extension": ".py",
   "mimetype": "text/x-python",
   "name": "python",
   "nbconvert_exporter": "python",
   "pygments_lexer": "ipython3",
   "version": "3.7.3"
  }
 },
 "nbformat": 4,
 "nbformat_minor": 2
}
